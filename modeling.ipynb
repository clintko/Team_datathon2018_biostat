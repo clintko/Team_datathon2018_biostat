{
 "cells": [
  {
   "cell_type": "code",
   "execution_count": 1,
   "metadata": {},
   "outputs": [
    {
     "name": "stderr",
     "output_type": "stream",
     "text": [
      "── Attaching packages ─────────────────────────────────────── tidyverse 1.2.1 ──\n",
      "✔ ggplot2 3.0.0     ✔ purrr   0.2.5\n",
      "✔ tibble  1.4.2     ✔ dplyr   0.7.6\n",
      "✔ tidyr   0.8.1     ✔ stringr 1.3.1\n",
      "✔ readr   1.1.1     ✔ forcats 0.3.0\n",
      "── Conflicts ────────────────────────────────────────── tidyverse_conflicts() ──\n",
      "✖ dplyr::filter() masks stats::filter()\n",
      "✖ dplyr::lag()    masks stats::lag()\n"
     ]
    }
   ],
   "source": [
    "library(tidyverse)"
   ]
  },
  {
   "cell_type": "markdown",
   "metadata": {},
   "source": [
    "# import data"
   ]
  },
  {
   "cell_type": "code",
   "execution_count": 2,
   "metadata": {},
   "outputs": [
    {
     "name": "stderr",
     "output_type": "stream",
     "text": [
      "Parsed with column specification:\n",
      "cols(\n",
      "  user_id = col_character(),\n",
      "  session_id = col_character(),\n",
      "  session_length = col_integer(),\n",
      "  click_count = col_integer(),\n",
      "  click_count_credit_card = col_integer(),\n",
      "  click_count_personal_loan = col_integer(),\n",
      "  click_count_mortgage = col_integer(),\n",
      "  click_count_credit_repair = col_integer(),\n",
      "  click_count_banking = col_integer(),\n",
      "  click_count_auto_products = col_integer(),\n",
      "  click_apply_count = col_integer(),\n",
      "  click_count_credit_card.1 = col_integer(),\n",
      "  click_count_personal_loan.1 = col_integer(),\n",
      "  click_count_mortgage.1 = col_integer(),\n",
      "  click_count_credit_repair.1 = col_integer(),\n",
      "  click_count_banking.1 = col_integer(),\n",
      "  click_count_auto_products.1 = col_integer(),\n",
      "  login_platform = col_character()\n",
      ")\n",
      "Parsed with column specification:\n",
      "cols(\n",
      "  user_id = col_character(),\n",
      "  session_length = col_integer(),\n",
      "  click_count = col_integer(),\n",
      "  click_count_credit_card = col_integer(),\n",
      "  click_count_personal_loan = col_integer(),\n",
      "  click_count_mortgage = col_integer(),\n",
      "  click_count_credit_repair = col_integer(),\n",
      "  click_count_banking = col_integer(),\n",
      "  click_count_auto_products = col_integer(),\n",
      "  click_apply_count = col_integer(),\n",
      "  click_count_credit_card.1 = col_integer(),\n",
      "  click_count_personal_loan.1 = col_integer(),\n",
      "  click_count_mortgage.1 = col_integer(),\n",
      "  click_count_credit_repair.1 = col_integer(),\n",
      "  click_count_banking.1 = col_integer(),\n",
      "  click_count_auto_products.1 = col_integer()\n",
      ")\n",
      "Parsed with column specification:\n",
      "cols(\n",
      "  user_id = col_character(),\n",
      "  age_bucket = col_character(),\n",
      "  age_bucket_bound_lower = col_integer(),\n",
      "  age_bucket_bound_upper = col_integer(),\n",
      "  age = col_double(),\n",
      "  credit_score_bucket = col_character(),\n",
      "  credit_score_bound_lower = col_integer(),\n",
      "  credit_score_bound_upper = col_integer(),\n",
      "  credit_bucket = col_character()\n",
      ")\n",
      "Parsed with column specification:\n",
      "cols(\n",
      "  .default = col_integer(),\n",
      "  user_id = col_character(),\n",
      "  user_signup_timestamp = col_datetime(format = \"\"),\n",
      "  state = col_character(),\n",
      "  is_homeowner = col_character(),\n",
      "  gender = col_character(),\n",
      "  tradelines_avg_days_since_opened = col_double(),\n",
      "  tradelines_max_days_since_opened = col_double(),\n",
      "  tradelines_min_days_since_opened = col_double(),\n",
      "  total_tradelines_amount_past_due = col_double(),\n",
      "  total_open_cc_amount_past_due = col_double(),\n",
      "  total_cc_open_balance = col_double(),\n",
      "  total_tradelines_open_balance = col_double(),\n",
      "  max_cc_limit = col_double(),\n",
      "  max_cc_utilization_ratio = col_double(),\n",
      "  avg_cc_utilization_ratio = col_double(),\n",
      "  total_mortgage_loans_amount = col_double(),\n",
      "  total_mortgage_loans_balance = col_double(),\n",
      "  total_auto_loans_balance = col_double(),\n",
      "  total_student_loans_balance = col_double(),\n",
      "  recent_bankruptcy_date = col_datetime(format = \"\")\n",
      "  # ... with 2 more columns\n",
      ")\n",
      "See spec(...) for full column specifications.\n",
      "Warning message in rbind(names(probs), probs_f):\n",
      "“number of columns of result is not a multiple of vector length (arg 2)”Warning message:\n",
      "“1 parsing failure.\n",
      "row # A tibble: 1 x 5 col      row col     expected             actual file                               expected    <int> <chr>   <chr>                <chr>  <chr>                              actual 1 165123 zipcode no trailing charact… -4901  '/home/scratch/dataset/user_profi… file # A tibble: 1 x 5\n",
      "”"
     ]
    }
   ],
   "source": [
    "#profile = read_csv(\"/home/scratch/dataset/user_profile.csv\", n_max = 1000)\n",
    "#profile = read_csv(\"/home/scratch/dataset/profile_with_credit_age.csv\")\n",
    "first              = read_csv(\"/home/scratch/dataset/engage_first_apply.csv\")\n",
    "engage             = read_csv(\"/home/scratch/dataset/engage_rest_click_apply_sum.csv\")\n",
    "profile_age_credit = read_csv(\"/home/scratch/dataset/profile_with_credit_age.csv\")\n",
    "profile            = read_csv(\"/home/scratch/dataset/user_profile.csv\")"
   ]
  },
  {
   "cell_type": "code",
   "execution_count": 3,
   "metadata": {},
   "outputs": [
    {
     "data": {
      "text/html": [
       "<ol class=list-inline>\n",
       "\t<li>'Unnamed: 0'</li>\n",
       "\t<li>'user_id'</li>\n",
       "\t<li>'user_signup_timestamp'</li>\n",
       "\t<li>'state'</li>\n",
       "\t<li>'zipcode'</li>\n",
       "\t<li>'is_homeowner'</li>\n",
       "\t<li>'gender'</li>\n",
       "\t<li>'tradelines_avg_days_since_opened'</li>\n",
       "\t<li>'tradelines_max_days_since_opened'</li>\n",
       "\t<li>'tradelines_min_days_since_opened'</li>\n",
       "\t<li>'count_tradelines_closed_accounts'</li>\n",
       "\t<li>'count_total_tradelines_opened_24_months'</li>\n",
       "\t<li>'count_tradelines_cc_opened_24_months'</li>\n",
       "\t<li>'count_tradelines_condition_derogatory'</li>\n",
       "\t<li>'count_open_installment_accounts_24_months'</li>\n",
       "\t<li>'count_tradelines_open_collection_accounts'</li>\n",
       "\t<li>'count_tradelines_open_mortgages'</li>\n",
       "\t<li>'count_tradelines_open_student_loans'</li>\n",
       "\t<li>'count_tradelines_opened_accounts'</li>\n",
       "\t<li>'count_tradelines_open_secured_loans'</li>\n",
       "\t<li>'count_tradelines_open_unsecured_loans'</li>\n",
       "\t<li>'total_tradelines_amount_past_due'</li>\n",
       "\t<li>'total_open_cc_amount_past_due'</li>\n",
       "\t<li>'total_cc_open_balance'</li>\n",
       "\t<li>'total_tradelines_open_balance'</li>\n",
       "\t<li>'max_cc_limit'</li>\n",
       "\t<li>'max_cc_utilization_ratio'</li>\n",
       "\t<li>'avg_cc_utilization_ratio'</li>\n",
       "\t<li>'total_mortgage_loans_amount'</li>\n",
       "\t<li>'total_mortgage_loans_balance'</li>\n",
       "\t<li>'total_auto_loans_balance'</li>\n",
       "\t<li>'total_student_loans_balance'</li>\n",
       "\t<li>'count_inquiries_3_months'</li>\n",
       "\t<li>'count_inquiries_6_months'</li>\n",
       "\t<li>'count_inquiries_12_months'</li>\n",
       "\t<li>'recent_bankruptcy_date'</li>\n",
       "\t<li>'count_bankruptcy'</li>\n",
       "\t<li>'age_bucket'</li>\n",
       "\t<li>'credit_score_bucket'</li>\n",
       "</ol>\n"
      ],
      "text/latex": [
       "\\begin{enumerate*}\n",
       "\\item 'Unnamed: 0'\n",
       "\\item 'user\\_id'\n",
       "\\item 'user\\_signup\\_timestamp'\n",
       "\\item 'state'\n",
       "\\item 'zipcode'\n",
       "\\item 'is\\_homeowner'\n",
       "\\item 'gender'\n",
       "\\item 'tradelines\\_avg\\_days\\_since\\_opened'\n",
       "\\item 'tradelines\\_max\\_days\\_since\\_opened'\n",
       "\\item 'tradelines\\_min\\_days\\_since\\_opened'\n",
       "\\item 'count\\_tradelines\\_closed\\_accounts'\n",
       "\\item 'count\\_total\\_tradelines\\_opened\\_24\\_months'\n",
       "\\item 'count\\_tradelines\\_cc\\_opened\\_24\\_months'\n",
       "\\item 'count\\_tradelines\\_condition\\_derogatory'\n",
       "\\item 'count\\_open\\_installment\\_accounts\\_24\\_months'\n",
       "\\item 'count\\_tradelines\\_open\\_collection\\_accounts'\n",
       "\\item 'count\\_tradelines\\_open\\_mortgages'\n",
       "\\item 'count\\_tradelines\\_open\\_student\\_loans'\n",
       "\\item 'count\\_tradelines\\_opened\\_accounts'\n",
       "\\item 'count\\_tradelines\\_open\\_secured\\_loans'\n",
       "\\item 'count\\_tradelines\\_open\\_unsecured\\_loans'\n",
       "\\item 'total\\_tradelines\\_amount\\_past\\_due'\n",
       "\\item 'total\\_open\\_cc\\_amount\\_past\\_due'\n",
       "\\item 'total\\_cc\\_open\\_balance'\n",
       "\\item 'total\\_tradelines\\_open\\_balance'\n",
       "\\item 'max\\_cc\\_limit'\n",
       "\\item 'max\\_cc\\_utilization\\_ratio'\n",
       "\\item 'avg\\_cc\\_utilization\\_ratio'\n",
       "\\item 'total\\_mortgage\\_loans\\_amount'\n",
       "\\item 'total\\_mortgage\\_loans\\_balance'\n",
       "\\item 'total\\_auto\\_loans\\_balance'\n",
       "\\item 'total\\_student\\_loans\\_balance'\n",
       "\\item 'count\\_inquiries\\_3\\_months'\n",
       "\\item 'count\\_inquiries\\_6\\_months'\n",
       "\\item 'count\\_inquiries\\_12\\_months'\n",
       "\\item 'recent\\_bankruptcy\\_date'\n",
       "\\item 'count\\_bankruptcy'\n",
       "\\item 'age\\_bucket'\n",
       "\\item 'credit\\_score\\_bucket'\n",
       "\\end{enumerate*}\n"
      ],
      "text/markdown": [
       "1. 'Unnamed: 0'\n",
       "2. 'user_id'\n",
       "3. 'user_signup_timestamp'\n",
       "4. 'state'\n",
       "5. 'zipcode'\n",
       "6. 'is_homeowner'\n",
       "7. 'gender'\n",
       "8. 'tradelines_avg_days_since_opened'\n",
       "9. 'tradelines_max_days_since_opened'\n",
       "10. 'tradelines_min_days_since_opened'\n",
       "11. 'count_tradelines_closed_accounts'\n",
       "12. 'count_total_tradelines_opened_24_months'\n",
       "13. 'count_tradelines_cc_opened_24_months'\n",
       "14. 'count_tradelines_condition_derogatory'\n",
       "15. 'count_open_installment_accounts_24_months'\n",
       "16. 'count_tradelines_open_collection_accounts'\n",
       "17. 'count_tradelines_open_mortgages'\n",
       "18. 'count_tradelines_open_student_loans'\n",
       "19. 'count_tradelines_opened_accounts'\n",
       "20. 'count_tradelines_open_secured_loans'\n",
       "21. 'count_tradelines_open_unsecured_loans'\n",
       "22. 'total_tradelines_amount_past_due'\n",
       "23. 'total_open_cc_amount_past_due'\n",
       "24. 'total_cc_open_balance'\n",
       "25. 'total_tradelines_open_balance'\n",
       "26. 'max_cc_limit'\n",
       "27. 'max_cc_utilization_ratio'\n",
       "28. 'avg_cc_utilization_ratio'\n",
       "29. 'total_mortgage_loans_amount'\n",
       "30. 'total_mortgage_loans_balance'\n",
       "31. 'total_auto_loans_balance'\n",
       "32. 'total_student_loans_balance'\n",
       "33. 'count_inquiries_3_months'\n",
       "34. 'count_inquiries_6_months'\n",
       "35. 'count_inquiries_12_months'\n",
       "36. 'recent_bankruptcy_date'\n",
       "37. 'count_bankruptcy'\n",
       "38. 'age_bucket'\n",
       "39. 'credit_score_bucket'\n",
       "\n",
       "\n"
      ],
      "text/plain": [
       " [1] \"Unnamed: 0\"                               \n",
       " [2] \"user_id\"                                  \n",
       " [3] \"user_signup_timestamp\"                    \n",
       " [4] \"state\"                                    \n",
       " [5] \"zipcode\"                                  \n",
       " [6] \"is_homeowner\"                             \n",
       " [7] \"gender\"                                   \n",
       " [8] \"tradelines_avg_days_since_opened\"         \n",
       " [9] \"tradelines_max_days_since_opened\"         \n",
       "[10] \"tradelines_min_days_since_opened\"         \n",
       "[11] \"count_tradelines_closed_accounts\"         \n",
       "[12] \"count_total_tradelines_opened_24_months\"  \n",
       "[13] \"count_tradelines_cc_opened_24_months\"     \n",
       "[14] \"count_tradelines_condition_derogatory\"    \n",
       "[15] \"count_open_installment_accounts_24_months\"\n",
       "[16] \"count_tradelines_open_collection_accounts\"\n",
       "[17] \"count_tradelines_open_mortgages\"          \n",
       "[18] \"count_tradelines_open_student_loans\"      \n",
       "[19] \"count_tradelines_opened_accounts\"         \n",
       "[20] \"count_tradelines_open_secured_loans\"      \n",
       "[21] \"count_tradelines_open_unsecured_loans\"    \n",
       "[22] \"total_tradelines_amount_past_due\"         \n",
       "[23] \"total_open_cc_amount_past_due\"            \n",
       "[24] \"total_cc_open_balance\"                    \n",
       "[25] \"total_tradelines_open_balance\"            \n",
       "[26] \"max_cc_limit\"                             \n",
       "[27] \"max_cc_utilization_ratio\"                 \n",
       "[28] \"avg_cc_utilization_ratio\"                 \n",
       "[29] \"total_mortgage_loans_amount\"              \n",
       "[30] \"total_mortgage_loans_balance\"             \n",
       "[31] \"total_auto_loans_balance\"                 \n",
       "[32] \"total_student_loans_balance\"              \n",
       "[33] \"count_inquiries_3_months\"                 \n",
       "[34] \"count_inquiries_6_months\"                 \n",
       "[35] \"count_inquiries_12_months\"                \n",
       "[36] \"recent_bankruptcy_date\"                   \n",
       "[37] \"count_bankruptcy\"                         \n",
       "[38] \"age_bucket\"                               \n",
       "[39] \"credit_score_bucket\"                      "
      ]
     },
     "metadata": {},
     "output_type": "display_data"
    }
   ],
   "source": [
    "colnames(profile) "
   ]
  },
  {
   "cell_type": "code",
   "execution_count": 4,
   "metadata": {},
   "outputs": [],
   "source": [
    "dat_profile = profile %>% select(\n",
    "    user_id, \n",
    "    tradelines_avg_days_since_opened,\n",
    "    count_tradelines_condition_derogatory,\n",
    "    count_tradelines_open_collection_accounts,\n",
    "    total_tradelines_amount_past_due,\n",
    "    avg_cc_utilization_ratio,\n",
    "    total_mortgage_loans_amount,\n",
    "    count_inquiries_3_months,\n",
    "    count_inquiries_6_months,\n",
    "    count_inquiries_12_months,\n",
    "    count_bankruptcy\n",
    ")"
   ]
  },
  {
   "cell_type": "code",
   "execution_count": 5,
   "metadata": {},
   "outputs": [
    {
     "data": {
      "text/html": [
       "<ol class=list-inline>\n",
       "\t<li>'user_id'</li>\n",
       "\t<li>'first_session_id'</li>\n",
       "\t<li>'first_session_length'</li>\n",
       "\t<li>'first_click_count'</li>\n",
       "\t<li>'first_click_count_credit_card'</li>\n",
       "\t<li>'first_click_count_personal_loan'</li>\n",
       "\t<li>'first_click_count_mortgage'</li>\n",
       "\t<li>'first_click_count_credit_repair'</li>\n",
       "\t<li>'first_click_count_banking'</li>\n",
       "\t<li>'first_click_count_auto_products'</li>\n",
       "\t<li>'first_click_apply_count'</li>\n",
       "\t<li>'first_click_count_credit_card_apply'</li>\n",
       "\t<li>'first_click_count_personal_loan_apply'</li>\n",
       "\t<li>'first_click_count_mortgage_apply'</li>\n",
       "\t<li>'first_click_count_credit_repair_apply'</li>\n",
       "\t<li>'first_click_count_banking_apply'</li>\n",
       "\t<li>'first_click_count_auto_products_apply'</li>\n",
       "\t<li>'first_login_platform'</li>\n",
       "</ol>\n"
      ],
      "text/latex": [
       "\\begin{enumerate*}\n",
       "\\item 'user\\_id'\n",
       "\\item 'first\\_session\\_id'\n",
       "\\item 'first\\_session\\_length'\n",
       "\\item 'first\\_click\\_count'\n",
       "\\item 'first\\_click\\_count\\_credit\\_card'\n",
       "\\item 'first\\_click\\_count\\_personal\\_loan'\n",
       "\\item 'first\\_click\\_count\\_mortgage'\n",
       "\\item 'first\\_click\\_count\\_credit\\_repair'\n",
       "\\item 'first\\_click\\_count\\_banking'\n",
       "\\item 'first\\_click\\_count\\_auto\\_products'\n",
       "\\item 'first\\_click\\_apply\\_count'\n",
       "\\item 'first\\_click\\_count\\_credit\\_card\\_apply'\n",
       "\\item 'first\\_click\\_count\\_personal\\_loan\\_apply'\n",
       "\\item 'first\\_click\\_count\\_mortgage\\_apply'\n",
       "\\item 'first\\_click\\_count\\_credit\\_repair\\_apply'\n",
       "\\item 'first\\_click\\_count\\_banking\\_apply'\n",
       "\\item 'first\\_click\\_count\\_auto\\_products\\_apply'\n",
       "\\item 'first\\_login\\_platform'\n",
       "\\end{enumerate*}\n"
      ],
      "text/markdown": [
       "1. 'user_id'\n",
       "2. 'first_session_id'\n",
       "3. 'first_session_length'\n",
       "4. 'first_click_count'\n",
       "5. 'first_click_count_credit_card'\n",
       "6. 'first_click_count_personal_loan'\n",
       "7. 'first_click_count_mortgage'\n",
       "8. 'first_click_count_credit_repair'\n",
       "9. 'first_click_count_banking'\n",
       "10. 'first_click_count_auto_products'\n",
       "11. 'first_click_apply_count'\n",
       "12. 'first_click_count_credit_card_apply'\n",
       "13. 'first_click_count_personal_loan_apply'\n",
       "14. 'first_click_count_mortgage_apply'\n",
       "15. 'first_click_count_credit_repair_apply'\n",
       "16. 'first_click_count_banking_apply'\n",
       "17. 'first_click_count_auto_products_apply'\n",
       "18. 'first_login_platform'\n",
       "\n",
       "\n"
      ],
      "text/plain": [
       " [1] \"user_id\"                              \n",
       " [2] \"first_session_id\"                     \n",
       " [3] \"first_session_length\"                 \n",
       " [4] \"first_click_count\"                    \n",
       " [5] \"first_click_count_credit_card\"        \n",
       " [6] \"first_click_count_personal_loan\"      \n",
       " [7] \"first_click_count_mortgage\"           \n",
       " [8] \"first_click_count_credit_repair\"      \n",
       " [9] \"first_click_count_banking\"            \n",
       "[10] \"first_click_count_auto_products\"      \n",
       "[11] \"first_click_apply_count\"              \n",
       "[12] \"first_click_count_credit_card_apply\"  \n",
       "[13] \"first_click_count_personal_loan_apply\"\n",
       "[14] \"first_click_count_mortgage_apply\"     \n",
       "[15] \"first_click_count_credit_repair_apply\"\n",
       "[16] \"first_click_count_banking_apply\"      \n",
       "[17] \"first_click_count_auto_products_apply\"\n",
       "[18] \"first_login_platform\"                 "
      ]
     },
     "metadata": {},
     "output_type": "display_data"
    }
   ],
   "source": [
    "dat_first = first\n",
    "colnames(dat_first)[2:ncol(dat_first)] = paste0(\"first_\", colnames(dat_first)[2:ncol(dat_first)])\n",
    "colnames(dat_first) = str_replace(colnames(dat_first), pattern = \".1\", replacement = \"_apply\")\n",
    "colnames(dat_first)"
   ]
  },
  {
   "cell_type": "code",
   "execution_count": 6,
   "metadata": {},
   "outputs": [
    {
     "data": {
      "text/html": [
       "<ol class=list-inline>\n",
       "\t<li>'user_id'</li>\n",
       "\t<li>'session_length'</li>\n",
       "\t<li>'click_count'</li>\n",
       "\t<li>'click_count_credit_card'</li>\n",
       "\t<li>'click_count_personal_loan'</li>\n",
       "\t<li>'click_count_mortgage'</li>\n",
       "\t<li>'click_count_credit_repair'</li>\n",
       "\t<li>'click_count_banking'</li>\n",
       "\t<li>'click_count_auto_products'</li>\n",
       "\t<li>'click_apply_count'</li>\n",
       "\t<li>'click_count_credit_card_apply'</li>\n",
       "\t<li>'click_count_personal_loan_apply'</li>\n",
       "\t<li>'click_count_mortgage_apply'</li>\n",
       "\t<li>'click_count_credit_repair_apply'</li>\n",
       "\t<li>'click_count_banking_apply'</li>\n",
       "\t<li>'click_count_auto_products_apply'</li>\n",
       "</ol>\n"
      ],
      "text/latex": [
       "\\begin{enumerate*}\n",
       "\\item 'user\\_id'\n",
       "\\item 'session\\_length'\n",
       "\\item 'click\\_count'\n",
       "\\item 'click\\_count\\_credit\\_card'\n",
       "\\item 'click\\_count\\_personal\\_loan'\n",
       "\\item 'click\\_count\\_mortgage'\n",
       "\\item 'click\\_count\\_credit\\_repair'\n",
       "\\item 'click\\_count\\_banking'\n",
       "\\item 'click\\_count\\_auto\\_products'\n",
       "\\item 'click\\_apply\\_count'\n",
       "\\item 'click\\_count\\_credit\\_card\\_apply'\n",
       "\\item 'click\\_count\\_personal\\_loan\\_apply'\n",
       "\\item 'click\\_count\\_mortgage\\_apply'\n",
       "\\item 'click\\_count\\_credit\\_repair\\_apply'\n",
       "\\item 'click\\_count\\_banking\\_apply'\n",
       "\\item 'click\\_count\\_auto\\_products\\_apply'\n",
       "\\end{enumerate*}\n"
      ],
      "text/markdown": [
       "1. 'user_id'\n",
       "2. 'session_length'\n",
       "3. 'click_count'\n",
       "4. 'click_count_credit_card'\n",
       "5. 'click_count_personal_loan'\n",
       "6. 'click_count_mortgage'\n",
       "7. 'click_count_credit_repair'\n",
       "8. 'click_count_banking'\n",
       "9. 'click_count_auto_products'\n",
       "10. 'click_apply_count'\n",
       "11. 'click_count_credit_card_apply'\n",
       "12. 'click_count_personal_loan_apply'\n",
       "13. 'click_count_mortgage_apply'\n",
       "14. 'click_count_credit_repair_apply'\n",
       "15. 'click_count_banking_apply'\n",
       "16. 'click_count_auto_products_apply'\n",
       "\n",
       "\n"
      ],
      "text/plain": [
       " [1] \"user_id\"                         \"session_length\"                 \n",
       " [3] \"click_count\"                     \"click_count_credit_card\"        \n",
       " [5] \"click_count_personal_loan\"       \"click_count_mortgage\"           \n",
       " [7] \"click_count_credit_repair\"       \"click_count_banking\"            \n",
       " [9] \"click_count_auto_products\"       \"click_apply_count\"              \n",
       "[11] \"click_count_credit_card_apply\"   \"click_count_personal_loan_apply\"\n",
       "[13] \"click_count_mortgage_apply\"      \"click_count_credit_repair_apply\"\n",
       "[15] \"click_count_banking_apply\"       \"click_count_auto_products_apply\""
      ]
     },
     "metadata": {},
     "output_type": "display_data"
    }
   ],
   "source": [
    "dat_engage = engage\n",
    "colnames(dat_engage) = str_replace(colnames(dat_engage), pattern = \".1\", replacement = \"_apply\")\n",
    "colnames(dat_engage)"
   ]
  },
  {
   "cell_type": "code",
   "execution_count": 7,
   "metadata": {},
   "outputs": [
    {
     "data": {
      "text/html": [
       "<ol class=list-inline>\n",
       "\t<li>'user_id'</li>\n",
       "\t<li>'age_bucket'</li>\n",
       "\t<li>'age_bucket_bound_lower'</li>\n",
       "\t<li>'age_bucket_bound_upper'</li>\n",
       "\t<li>'age'</li>\n",
       "\t<li>'credit_score_bucket'</li>\n",
       "\t<li>'credit_score_bound_lower'</li>\n",
       "\t<li>'credit_score_bound_upper'</li>\n",
       "\t<li>'credit_bucket'</li>\n",
       "</ol>\n"
      ],
      "text/latex": [
       "\\begin{enumerate*}\n",
       "\\item 'user\\_id'\n",
       "\\item 'age\\_bucket'\n",
       "\\item 'age\\_bucket\\_bound\\_lower'\n",
       "\\item 'age\\_bucket\\_bound\\_upper'\n",
       "\\item 'age'\n",
       "\\item 'credit\\_score\\_bucket'\n",
       "\\item 'credit\\_score\\_bound\\_lower'\n",
       "\\item 'credit\\_score\\_bound\\_upper'\n",
       "\\item 'credit\\_bucket'\n",
       "\\end{enumerate*}\n"
      ],
      "text/markdown": [
       "1. 'user_id'\n",
       "2. 'age_bucket'\n",
       "3. 'age_bucket_bound_lower'\n",
       "4. 'age_bucket_bound_upper'\n",
       "5. 'age'\n",
       "6. 'credit_score_bucket'\n",
       "7. 'credit_score_bound_lower'\n",
       "8. 'credit_score_bound_upper'\n",
       "9. 'credit_bucket'\n",
       "\n",
       "\n"
      ],
      "text/plain": [
       "[1] \"user_id\"                  \"age_bucket\"              \n",
       "[3] \"age_bucket_bound_lower\"   \"age_bucket_bound_upper\"  \n",
       "[5] \"age\"                      \"credit_score_bucket\"     \n",
       "[7] \"credit_score_bound_lower\" \"credit_score_bound_upper\"\n",
       "[9] \"credit_bucket\"           "
      ]
     },
     "metadata": {},
     "output_type": "display_data"
    }
   ],
   "source": [
    "colnames(profile_age_credit)"
   ]
  },
  {
   "cell_type": "code",
   "execution_count": 8,
   "metadata": {},
   "outputs": [
    {
     "name": "stdout",
     "output_type": "stream",
     "text": [
      "[1] 62846    51\n"
     ]
    },
    {
     "data": {
      "text/html": [
       "<ol class=list-inline>\n",
       "\t<li>'user_id'</li>\n",
       "\t<li>'session_length'</li>\n",
       "\t<li>'click_count'</li>\n",
       "\t<li>'click_count_credit_card'</li>\n",
       "\t<li>'click_count_personal_loan'</li>\n",
       "\t<li>'click_count_mortgage'</li>\n",
       "\t<li>'click_count_credit_repair'</li>\n",
       "\t<li>'click_count_banking'</li>\n",
       "\t<li>'click_count_auto_products'</li>\n",
       "\t<li>'click_apply_count'</li>\n",
       "\t<li>'click_count_credit_card_apply'</li>\n",
       "\t<li>'click_count_personal_loan_apply'</li>\n",
       "\t<li>'click_count_mortgage_apply'</li>\n",
       "\t<li>'click_count_credit_repair_apply'</li>\n",
       "\t<li>'click_count_banking_apply'</li>\n",
       "\t<li>'click_count_auto_products_apply'</li>\n",
       "\t<li>'age_bucket'</li>\n",
       "\t<li>'age_bucket_bound_lower'</li>\n",
       "\t<li>'age_bucket_bound_upper'</li>\n",
       "\t<li>'age'</li>\n",
       "\t<li>'credit_score_bucket'</li>\n",
       "\t<li>'credit_score_bound_lower'</li>\n",
       "\t<li>'credit_score_bound_upper'</li>\n",
       "\t<li>'credit_bucket'</li>\n",
       "\t<li>'first_session_id'</li>\n",
       "\t<li>'first_session_length'</li>\n",
       "\t<li>'first_click_count'</li>\n",
       "\t<li>'first_click_count_credit_card'</li>\n",
       "\t<li>'first_click_count_personal_loan'</li>\n",
       "\t<li>'first_click_count_mortgage'</li>\n",
       "\t<li>'first_click_count_credit_repair'</li>\n",
       "\t<li>'first_click_count_banking'</li>\n",
       "\t<li>'first_click_count_auto_products'</li>\n",
       "\t<li>'first_click_apply_count'</li>\n",
       "\t<li>'first_click_count_credit_card_apply'</li>\n",
       "\t<li>'first_click_count_personal_loan_apply'</li>\n",
       "\t<li>'first_click_count_mortgage_apply'</li>\n",
       "\t<li>'first_click_count_credit_repair_apply'</li>\n",
       "\t<li>'first_click_count_banking_apply'</li>\n",
       "\t<li>'first_click_count_auto_products_apply'</li>\n",
       "\t<li>'first_login_platform'</li>\n",
       "\t<li>'tradelines_avg_days_since_opened'</li>\n",
       "\t<li>'count_tradelines_condition_derogatory'</li>\n",
       "\t<li>'count_tradelines_open_collection_accounts'</li>\n",
       "\t<li>'total_tradelines_amount_past_due'</li>\n",
       "\t<li>'avg_cc_utilization_ratio'</li>\n",
       "\t<li>'total_mortgage_loans_amount'</li>\n",
       "\t<li>'count_inquiries_3_months'</li>\n",
       "\t<li>'count_inquiries_6_months'</li>\n",
       "\t<li>'count_inquiries_12_months'</li>\n",
       "\t<li>'count_bankruptcy'</li>\n",
       "</ol>\n"
      ],
      "text/latex": [
       "\\begin{enumerate*}\n",
       "\\item 'user\\_id'\n",
       "\\item 'session\\_length'\n",
       "\\item 'click\\_count'\n",
       "\\item 'click\\_count\\_credit\\_card'\n",
       "\\item 'click\\_count\\_personal\\_loan'\n",
       "\\item 'click\\_count\\_mortgage'\n",
       "\\item 'click\\_count\\_credit\\_repair'\n",
       "\\item 'click\\_count\\_banking'\n",
       "\\item 'click\\_count\\_auto\\_products'\n",
       "\\item 'click\\_apply\\_count'\n",
       "\\item 'click\\_count\\_credit\\_card\\_apply'\n",
       "\\item 'click\\_count\\_personal\\_loan\\_apply'\n",
       "\\item 'click\\_count\\_mortgage\\_apply'\n",
       "\\item 'click\\_count\\_credit\\_repair\\_apply'\n",
       "\\item 'click\\_count\\_banking\\_apply'\n",
       "\\item 'click\\_count\\_auto\\_products\\_apply'\n",
       "\\item 'age\\_bucket'\n",
       "\\item 'age\\_bucket\\_bound\\_lower'\n",
       "\\item 'age\\_bucket\\_bound\\_upper'\n",
       "\\item 'age'\n",
       "\\item 'credit\\_score\\_bucket'\n",
       "\\item 'credit\\_score\\_bound\\_lower'\n",
       "\\item 'credit\\_score\\_bound\\_upper'\n",
       "\\item 'credit\\_bucket'\n",
       "\\item 'first\\_session\\_id'\n",
       "\\item 'first\\_session\\_length'\n",
       "\\item 'first\\_click\\_count'\n",
       "\\item 'first\\_click\\_count\\_credit\\_card'\n",
       "\\item 'first\\_click\\_count\\_personal\\_loan'\n",
       "\\item 'first\\_click\\_count\\_mortgage'\n",
       "\\item 'first\\_click\\_count\\_credit\\_repair'\n",
       "\\item 'first\\_click\\_count\\_banking'\n",
       "\\item 'first\\_click\\_count\\_auto\\_products'\n",
       "\\item 'first\\_click\\_apply\\_count'\n",
       "\\item 'first\\_click\\_count\\_credit\\_card\\_apply'\n",
       "\\item 'first\\_click\\_count\\_personal\\_loan\\_apply'\n",
       "\\item 'first\\_click\\_count\\_mortgage\\_apply'\n",
       "\\item 'first\\_click\\_count\\_credit\\_repair\\_apply'\n",
       "\\item 'first\\_click\\_count\\_banking\\_apply'\n",
       "\\item 'first\\_click\\_count\\_auto\\_products\\_apply'\n",
       "\\item 'first\\_login\\_platform'\n",
       "\\item 'tradelines\\_avg\\_days\\_since\\_opened'\n",
       "\\item 'count\\_tradelines\\_condition\\_derogatory'\n",
       "\\item 'count\\_tradelines\\_open\\_collection\\_accounts'\n",
       "\\item 'total\\_tradelines\\_amount\\_past\\_due'\n",
       "\\item 'avg\\_cc\\_utilization\\_ratio'\n",
       "\\item 'total\\_mortgage\\_loans\\_amount'\n",
       "\\item 'count\\_inquiries\\_3\\_months'\n",
       "\\item 'count\\_inquiries\\_6\\_months'\n",
       "\\item 'count\\_inquiries\\_12\\_months'\n",
       "\\item 'count\\_bankruptcy'\n",
       "\\end{enumerate*}\n"
      ],
      "text/markdown": [
       "1. 'user_id'\n",
       "2. 'session_length'\n",
       "3. 'click_count'\n",
       "4. 'click_count_credit_card'\n",
       "5. 'click_count_personal_loan'\n",
       "6. 'click_count_mortgage'\n",
       "7. 'click_count_credit_repair'\n",
       "8. 'click_count_banking'\n",
       "9. 'click_count_auto_products'\n",
       "10. 'click_apply_count'\n",
       "11. 'click_count_credit_card_apply'\n",
       "12. 'click_count_personal_loan_apply'\n",
       "13. 'click_count_mortgage_apply'\n",
       "14. 'click_count_credit_repair_apply'\n",
       "15. 'click_count_banking_apply'\n",
       "16. 'click_count_auto_products_apply'\n",
       "17. 'age_bucket'\n",
       "18. 'age_bucket_bound_lower'\n",
       "19. 'age_bucket_bound_upper'\n",
       "20. 'age'\n",
       "21. 'credit_score_bucket'\n",
       "22. 'credit_score_bound_lower'\n",
       "23. 'credit_score_bound_upper'\n",
       "24. 'credit_bucket'\n",
       "25. 'first_session_id'\n",
       "26. 'first_session_length'\n",
       "27. 'first_click_count'\n",
       "28. 'first_click_count_credit_card'\n",
       "29. 'first_click_count_personal_loan'\n",
       "30. 'first_click_count_mortgage'\n",
       "31. 'first_click_count_credit_repair'\n",
       "32. 'first_click_count_banking'\n",
       "33. 'first_click_count_auto_products'\n",
       "34. 'first_click_apply_count'\n",
       "35. 'first_click_count_credit_card_apply'\n",
       "36. 'first_click_count_personal_loan_apply'\n",
       "37. 'first_click_count_mortgage_apply'\n",
       "38. 'first_click_count_credit_repair_apply'\n",
       "39. 'first_click_count_banking_apply'\n",
       "40. 'first_click_count_auto_products_apply'\n",
       "41. 'first_login_platform'\n",
       "42. 'tradelines_avg_days_since_opened'\n",
       "43. 'count_tradelines_condition_derogatory'\n",
       "44. 'count_tradelines_open_collection_accounts'\n",
       "45. 'total_tradelines_amount_past_due'\n",
       "46. 'avg_cc_utilization_ratio'\n",
       "47. 'total_mortgage_loans_amount'\n",
       "48. 'count_inquiries_3_months'\n",
       "49. 'count_inquiries_6_months'\n",
       "50. 'count_inquiries_12_months'\n",
       "51. 'count_bankruptcy'\n",
       "\n",
       "\n"
      ],
      "text/plain": [
       " [1] \"user_id\"                                  \n",
       " [2] \"session_length\"                           \n",
       " [3] \"click_count\"                              \n",
       " [4] \"click_count_credit_card\"                  \n",
       " [5] \"click_count_personal_loan\"                \n",
       " [6] \"click_count_mortgage\"                     \n",
       " [7] \"click_count_credit_repair\"                \n",
       " [8] \"click_count_banking\"                      \n",
       " [9] \"click_count_auto_products\"                \n",
       "[10] \"click_apply_count\"                        \n",
       "[11] \"click_count_credit_card_apply\"            \n",
       "[12] \"click_count_personal_loan_apply\"          \n",
       "[13] \"click_count_mortgage_apply\"               \n",
       "[14] \"click_count_credit_repair_apply\"          \n",
       "[15] \"click_count_banking_apply\"                \n",
       "[16] \"click_count_auto_products_apply\"          \n",
       "[17] \"age_bucket\"                               \n",
       "[18] \"age_bucket_bound_lower\"                   \n",
       "[19] \"age_bucket_bound_upper\"                   \n",
       "[20] \"age\"                                      \n",
       "[21] \"credit_score_bucket\"                      \n",
       "[22] \"credit_score_bound_lower\"                 \n",
       "[23] \"credit_score_bound_upper\"                 \n",
       "[24] \"credit_bucket\"                            \n",
       "[25] \"first_session_id\"                         \n",
       "[26] \"first_session_length\"                     \n",
       "[27] \"first_click_count\"                        \n",
       "[28] \"first_click_count_credit_card\"            \n",
       "[29] \"first_click_count_personal_loan\"          \n",
       "[30] \"first_click_count_mortgage\"               \n",
       "[31] \"first_click_count_credit_repair\"          \n",
       "[32] \"first_click_count_banking\"                \n",
       "[33] \"first_click_count_auto_products\"          \n",
       "[34] \"first_click_apply_count\"                  \n",
       "[35] \"first_click_count_credit_card_apply\"      \n",
       "[36] \"first_click_count_personal_loan_apply\"    \n",
       "[37] \"first_click_count_mortgage_apply\"         \n",
       "[38] \"first_click_count_credit_repair_apply\"    \n",
       "[39] \"first_click_count_banking_apply\"          \n",
       "[40] \"first_click_count_auto_products_apply\"    \n",
       "[41] \"first_login_platform\"                     \n",
       "[42] \"tradelines_avg_days_since_opened\"         \n",
       "[43] \"count_tradelines_condition_derogatory\"    \n",
       "[44] \"count_tradelines_open_collection_accounts\"\n",
       "[45] \"total_tradelines_amount_past_due\"         \n",
       "[46] \"avg_cc_utilization_ratio\"                 \n",
       "[47] \"total_mortgage_loans_amount\"              \n",
       "[48] \"count_inquiries_3_months\"                 \n",
       "[49] \"count_inquiries_6_months\"                 \n",
       "[50] \"count_inquiries_12_months\"                \n",
       "[51] \"count_bankruptcy\"                         "
      ]
     },
     "metadata": {},
     "output_type": "display_data"
    }
   ],
   "source": [
    "###\n",
    "dat = dat_engage %>% \n",
    "    inner_join(., profile_age_credit, by = \"user_id\") %>% \n",
    "    inner_join(., dat_first,          by = \"user_id\") %>% \n",
    "    inner_join(., dat_profile,        by = \"user_id\")\n",
    "\n",
    "###\n",
    "dat = dat %>% filter(click_apply_count > 0)\n",
    "\n",
    "###\n",
    "print(dim(dat))\n",
    "colnames(dat)"
   ]
  },
  {
   "cell_type": "code",
   "execution_count": 9,
   "metadata": {},
   "outputs": [
    {
     "data": {
      "text/plain": [
       "\n",
       "    0     1     2     3     4     5     6     7     8     9    10    11    12 \n",
       "10085 21984 12898  6174  4178  2224  1688  1011   772   429   356   241   171 \n",
       "   13    14    15    16    17    18    19    20    21    22    23    24    25 \n",
       "  141    88    78    79    42    36    30    19    20    16    15     8     7 \n",
       "   26    27    28    29    30    31    32    33    34    35    36    40    41 \n",
       "    9     3     8     4     2     4     3     5     2     4     3     1     1 \n",
       "   43    46    60    67    73    82 \n",
       "    1     1     2     1     1     1 "
      ]
     },
     "metadata": {},
     "output_type": "display_data"
    }
   ],
   "source": [
    "table(dat$click_count_credit_card_apply)"
   ]
  },
  {
   "cell_type": "code",
   "execution_count": 19,
   "metadata": {},
   "outputs": [
    {
     "data": {
      "text/html": [
       "<table>\n",
       "<thead><tr><th></th><th scope=col>click_count_credit_card_apply</th><th scope=col>click_apply_count</th><th scope=col>age</th><th scope=col>credit_bucketfair</th><th scope=col>credit_bucketgood</th><th scope=col>credit_bucketpoor</th><th scope=col>first_click_count</th><th scope=col>first_click_count_credit_card</th><th scope=col>first_click_count_personal_loan</th><th scope=col>first_click_count_mortgage</th><th scope=col>⋯</th><th scope=col>tradelines_avg_days_since_opened</th><th scope=col>count_tradelines_condition_derogatory</th><th scope=col>count_tradelines_open_collection_accounts</th><th scope=col>total_tradelines_amount_past_due</th><th scope=col>avg_cc_utilization_ratio</th><th scope=col>total_mortgage_loans_amount</th><th scope=col>count_inquiries_3_months</th><th scope=col>count_inquiries_6_months</th><th scope=col>count_inquiries_12_months</th><th scope=col>count_bankruptcy</th></tr></thead>\n",
       "<tbody>\n",
       "\t<tr><th scope=row>3</th><td>3      </td><td>3      </td><td>47.5   </td><td>0      </td><td>0      </td><td>1      </td><td> 3     </td><td>0      </td><td>0      </td><td>0      </td><td>⋯      </td><td> 698.22</td><td> 6     </td><td>6      </td><td>   0   </td><td>0.09   </td><td>    0  </td><td>0      </td><td>0      </td><td> 1     </td><td>0      </td></tr>\n",
       "\t<tr><th scope=row>4</th><td>1      </td><td>1      </td><td>42.5   </td><td>0      </td><td>0      </td><td>1      </td><td> 9     </td><td>0      </td><td>0      </td><td>0      </td><td>⋯      </td><td> 806.00</td><td> 2     </td><td>0      </td><td>7688   </td><td>1.09   </td><td>    0  </td><td>7      </td><td>8      </td><td> 9     </td><td>0      </td></tr>\n",
       "\t<tr><th scope=row>5</th><td>1      </td><td>1      </td><td>52.5   </td><td>0      </td><td>0      </td><td>1      </td><td>15     </td><td>0      </td><td>0      </td><td>0      </td><td>⋯      </td><td> 256.00</td><td> 0     </td><td>0      </td><td>   0   </td><td>0.04   </td><td>    0  </td><td>0      </td><td>0      </td><td> 3     </td><td>0      </td></tr>\n",
       "\t<tr><th scope=row>9</th><td>0      </td><td>1      </td><td>52.5   </td><td>0      </td><td>0      </td><td>1      </td><td> 4     </td><td>0      </td><td>0      </td><td>0      </td><td>⋯      </td><td>1231.07</td><td>31     </td><td>0      </td><td>1801   </td><td>0.47   </td><td>86743  </td><td>0      </td><td>1      </td><td> 3     </td><td>1      </td></tr>\n",
       "\t<tr><th scope=row>11</th><td>2      </td><td>4      </td><td>37.5   </td><td>0      </td><td>0      </td><td>1      </td><td>44     </td><td>0      </td><td>2      </td><td>0      </td><td>⋯      </td><td> 946.57</td><td> 2     </td><td>1      </td><td>   0   </td><td>0.92   </td><td>42500  </td><td>0      </td><td>3      </td><td>11     </td><td>1      </td></tr>\n",
       "\t<tr><th scope=row>14</th><td>1      </td><td>2      </td><td>32.5   </td><td>1      </td><td>0      </td><td>0      </td><td>36     </td><td>0      </td><td>0      </td><td>0      </td><td>⋯      </td><td>1542.20</td><td> 1     </td><td>1      </td><td>   0   </td><td>0.26   </td><td>    0  </td><td>0      </td><td>2      </td><td> 2     </td><td>0      </td></tr>\n",
       "</tbody>\n",
       "</table>\n"
      ],
      "text/latex": [
       "\\begin{tabular}{r|llllllllllllllllllllllllllllll}\n",
       "  & click\\_count\\_credit\\_card\\_apply & click\\_apply\\_count & age & credit\\_bucketfair & credit\\_bucketgood & credit\\_bucketpoor & first\\_click\\_count & first\\_click\\_count\\_credit\\_card & first\\_click\\_count\\_personal\\_loan & first\\_click\\_count\\_mortgage & ⋯ & tradelines\\_avg\\_days\\_since\\_opened & count\\_tradelines\\_condition\\_derogatory & count\\_tradelines\\_open\\_collection\\_accounts & total\\_tradelines\\_amount\\_past\\_due & avg\\_cc\\_utilization\\_ratio & total\\_mortgage\\_loans\\_amount & count\\_inquiries\\_3\\_months & count\\_inquiries\\_6\\_months & count\\_inquiries\\_12\\_months & count\\_bankruptcy\\\\\n",
       "\\hline\n",
       "\t3 & 3       & 3       & 47.5    & 0       & 0       & 1       &  3      & 0       & 0       & 0       & ⋯       &  698.22 &  6      & 6       &    0    & 0.09    &     0   & 0       & 0       &  1      & 0      \\\\\n",
       "\t4 & 1       & 1       & 42.5    & 0       & 0       & 1       &  9      & 0       & 0       & 0       & ⋯       &  806.00 &  2      & 0       & 7688    & 1.09    &     0   & 7       & 8       &  9      & 0      \\\\\n",
       "\t5 & 1       & 1       & 52.5    & 0       & 0       & 1       & 15      & 0       & 0       & 0       & ⋯       &  256.00 &  0      & 0       &    0    & 0.04    &     0   & 0       & 0       &  3      & 0      \\\\\n",
       "\t9 & 0       & 1       & 52.5    & 0       & 0       & 1       &  4      & 0       & 0       & 0       & ⋯       & 1231.07 & 31      & 0       & 1801    & 0.47    & 86743   & 0       & 1       &  3      & 1      \\\\\n",
       "\t11 & 2       & 4       & 37.5    & 0       & 0       & 1       & 44      & 0       & 2       & 0       & ⋯       &  946.57 &  2      & 1       &    0    & 0.92    & 42500   & 0       & 3       & 11      & 1      \\\\\n",
       "\t14 & 1       & 2       & 32.5    & 1       & 0       & 0       & 36      & 0       & 0       & 0       & ⋯       & 1542.20 &  1      & 1       &    0    & 0.26    &     0   & 0       & 2       &  2      & 0      \\\\\n",
       "\\end{tabular}\n"
      ],
      "text/markdown": [
       "\n",
       "| <!--/--> | click_count_credit_card_apply | click_apply_count | age | credit_bucketfair | credit_bucketgood | credit_bucketpoor | first_click_count | first_click_count_credit_card | first_click_count_personal_loan | first_click_count_mortgage | ⋯ | tradelines_avg_days_since_opened | count_tradelines_condition_derogatory | count_tradelines_open_collection_accounts | total_tradelines_amount_past_due | avg_cc_utilization_ratio | total_mortgage_loans_amount | count_inquiries_3_months | count_inquiries_6_months | count_inquiries_12_months | count_bankruptcy | \n",
       "|---|---|---|---|---|---|\n",
       "| 3 | 3       | 3       | 47.5    | 0       | 0       | 1       |  3      | 0       | 0       | 0       | ⋯       |  698.22 |  6      | 6       |    0    | 0.09    |     0   | 0       | 0       |  1      | 0       | \n",
       "| 4 | 1       | 1       | 42.5    | 0       | 0       | 1       |  9      | 0       | 0       | 0       | ⋯       |  806.00 |  2      | 0       | 7688    | 1.09    |     0   | 7       | 8       |  9      | 0       | \n",
       "| 5 | 1       | 1       | 52.5    | 0       | 0       | 1       | 15      | 0       | 0       | 0       | ⋯       |  256.00 |  0      | 0       |    0    | 0.04    |     0   | 0       | 0       |  3      | 0       | \n",
       "| 9 | 0       | 1       | 52.5    | 0       | 0       | 1       |  4      | 0       | 0       | 0       | ⋯       | 1231.07 | 31      | 0       | 1801    | 0.47    | 86743   | 0       | 1       |  3      | 1       | \n",
       "| 11 | 2       | 4       | 37.5    | 0       | 0       | 1       | 44      | 0       | 2       | 0       | ⋯       |  946.57 |  2      | 1       |    0    | 0.92    | 42500   | 0       | 3       | 11      | 1       | \n",
       "| 14 | 1       | 2       | 32.5    | 1       | 0       | 0       | 36      | 0       | 0       | 0       | ⋯       | 1542.20 |  1      | 1       |    0    | 0.26    |     0   | 0       | 2       |  2      | 0       | \n",
       "\n",
       "\n"
      ],
      "text/plain": [
       "   click_count_credit_card_apply click_apply_count age  credit_bucketfair\n",
       "3  3                             3                 47.5 0                \n",
       "4  1                             1                 42.5 0                \n",
       "5  1                             1                 52.5 0                \n",
       "9  0                             1                 52.5 0                \n",
       "11 2                             4                 37.5 0                \n",
       "14 1                             2                 32.5 1                \n",
       "   credit_bucketgood credit_bucketpoor first_click_count\n",
       "3  0                 1                  3               \n",
       "4  0                 1                  9               \n",
       "5  0                 1                 15               \n",
       "9  0                 1                  4               \n",
       "11 0                 1                 44               \n",
       "14 0                 0                 36               \n",
       "   first_click_count_credit_card first_click_count_personal_loan\n",
       "3  0                             0                              \n",
       "4  0                             0                              \n",
       "5  0                             0                              \n",
       "9  0                             0                              \n",
       "11 0                             2                              \n",
       "14 0                             0                              \n",
       "   first_click_count_mortgage ⋯ tradelines_avg_days_since_opened\n",
       "3  0                          ⋯  698.22                         \n",
       "4  0                          ⋯  806.00                         \n",
       "5  0                          ⋯  256.00                         \n",
       "9  0                          ⋯ 1231.07                         \n",
       "11 0                          ⋯  946.57                         \n",
       "14 0                          ⋯ 1542.20                         \n",
       "   count_tradelines_condition_derogatory\n",
       "3   6                                   \n",
       "4   2                                   \n",
       "5   0                                   \n",
       "9  31                                   \n",
       "11  2                                   \n",
       "14  1                                   \n",
       "   count_tradelines_open_collection_accounts total_tradelines_amount_past_due\n",
       "3  6                                            0                            \n",
       "4  0                                         7688                            \n",
       "5  0                                            0                            \n",
       "9  0                                         1801                            \n",
       "11 1                                            0                            \n",
       "14 1                                            0                            \n",
       "   avg_cc_utilization_ratio total_mortgage_loans_amount\n",
       "3  0.09                         0                      \n",
       "4  1.09                         0                      \n",
       "5  0.04                         0                      \n",
       "9  0.47                     86743                      \n",
       "11 0.92                     42500                      \n",
       "14 0.26                         0                      \n",
       "   count_inquiries_3_months count_inquiries_6_months count_inquiries_12_months\n",
       "3  0                        0                         1                       \n",
       "4  7                        8                         9                       \n",
       "5  0                        0                         3                       \n",
       "9  0                        1                         3                       \n",
       "11 0                        3                        11                       \n",
       "14 0                        2                         2                       \n",
       "   count_bankruptcy\n",
       "3  0               \n",
       "4  0               \n",
       "5  0               \n",
       "9  1               \n",
       "11 1               \n",
       "14 0               "
      ]
     },
     "metadata": {},
     "output_type": "display_data"
    }
   ],
   "source": [
    "X = dat %>% select(click_count_credit_card_apply, \n",
    "                   click_apply_count,\n",
    "                   \n",
    "                   age, \n",
    "                   credit_bucket, \n",
    "                   starts_with(\"first\"), \n",
    "                   \n",
    "                   tradelines_avg_days_since_opened,\n",
    "                   count_tradelines_condition_derogatory,\n",
    "                   count_tradelines_open_collection_accounts,\n",
    "                   total_tradelines_amount_past_due,\n",
    "                   avg_cc_utilization_ratio,\n",
    "                   total_mortgage_loans_amount,\n",
    "                   count_inquiries_3_months,\n",
    "                   count_inquiries_6_months,\n",
    "                   count_inquiries_12_months,\n",
    "                   count_bankruptcy,\n",
    "                   \n",
    "                   -contains(\"session\"), \n",
    "                   -contains(\"platform\"))\n",
    "\n",
    "df = model.matrix(~ ., data = X) %>% data.frame %>% select(-contains(\"intercept\"))\n",
    "head(df)"
   ]
  },
  {
   "cell_type": "code",
   "execution_count": 20,
   "metadata": {},
   "outputs": [
    {
     "data": {
      "text/html": [
       "'click_count_credit_card_apply ~ offset(log(click_apply_count)) + age + credit_bucketfair + credit_bucketgood + credit_bucketpoor + first_click_count_credit_card + first_click_count_personal_loan + first_click_count_mortgage + first_click_count_credit_repair + first_click_count_banking + first_click_count_auto_products + first_click_count_credit_card_apply + first_click_count_personal_loan_apply + first_click_count_mortgage_apply + first_click_count_credit_repair_apply + first_click_count_banking_apply + first_click_count_auto_products_apply + tradelines_avg_days_since_opened + count_tradelines_condition_derogatory + count_tradelines_open_collection_accounts + total_tradelines_amount_past_due + avg_cc_utilization_ratio + total_mortgage_loans_amount + count_inquiries_3_months + count_inquiries_6_months + count_inquiries_12_months + count_bankruptcy'"
      ],
      "text/latex": [
       "'click\\_count\\_credit\\_card\\_apply \\textasciitilde{} offset(log(click\\_apply\\_count)) + age + credit\\_bucketfair + credit\\_bucketgood + credit\\_bucketpoor + first\\_click\\_count\\_credit\\_card + first\\_click\\_count\\_personal\\_loan + first\\_click\\_count\\_mortgage + first\\_click\\_count\\_credit\\_repair + first\\_click\\_count\\_banking + first\\_click\\_count\\_auto\\_products + first\\_click\\_count\\_credit\\_card\\_apply + first\\_click\\_count\\_personal\\_loan\\_apply + first\\_click\\_count\\_mortgage\\_apply + first\\_click\\_count\\_credit\\_repair\\_apply + first\\_click\\_count\\_banking\\_apply + first\\_click\\_count\\_auto\\_products\\_apply + tradelines\\_avg\\_days\\_since\\_opened + count\\_tradelines\\_condition\\_derogatory + count\\_tradelines\\_open\\_collection\\_accounts + total\\_tradelines\\_amount\\_past\\_due + avg\\_cc\\_utilization\\_ratio + total\\_mortgage\\_loans\\_amount + count\\_inquiries\\_3\\_months + count\\_inquiries\\_6\\_months + count\\_inquiries\\_12\\_months + count\\_bankruptcy'"
      ],
      "text/markdown": [
       "'click_count_credit_card_apply ~ offset(log(click_apply_count)) + age + credit_bucketfair + credit_bucketgood + credit_bucketpoor + first_click_count_credit_card + first_click_count_personal_loan + first_click_count_mortgage + first_click_count_credit_repair + first_click_count_banking + first_click_count_auto_products + first_click_count_credit_card_apply + first_click_count_personal_loan_apply + first_click_count_mortgage_apply + first_click_count_credit_repair_apply + first_click_count_banking_apply + first_click_count_auto_products_apply + tradelines_avg_days_since_opened + count_tradelines_condition_derogatory + count_tradelines_open_collection_accounts + total_tradelines_amount_past_due + avg_cc_utilization_ratio + total_mortgage_loans_amount + count_inquiries_3_months + count_inquiries_6_months + count_inquiries_12_months + count_bankruptcy'"
      ],
      "text/plain": [
       "[1] \"click_count_credit_card_apply ~ offset(log(click_apply_count)) + age + credit_bucketfair + credit_bucketgood + credit_bucketpoor + first_click_count_credit_card + first_click_count_personal_loan + first_click_count_mortgage + first_click_count_credit_repair + first_click_count_banking + first_click_count_auto_products + first_click_count_credit_card_apply + first_click_count_personal_loan_apply + first_click_count_mortgage_apply + first_click_count_credit_repair_apply + first_click_count_banking_apply + first_click_count_auto_products_apply + tradelines_avg_days_since_opened + count_tradelines_condition_derogatory + count_tradelines_open_collection_accounts + total_tradelines_amount_past_due + avg_cc_utilization_ratio + total_mortgage_loans_amount + count_inquiries_3_months + count_inquiries_6_months + count_inquiries_12_months + count_bankruptcy\""
      ]
     },
     "metadata": {},
     "output_type": "display_data"
    }
   ],
   "source": [
    "y   = \"click_count_credit_card_apply\"\n",
    "tmp = colnames(df)\n",
    "tmp = tmp[!(tmp %in% c(y, 'click_apply_count', \"first_click_count\", \"first_click_apply_count\"))]\n",
    "tmp = paste(tmp, collapse = \" + \")\n",
    "tmp = paste(\"offset(log(click_apply_count))\", tmp, sep = \" + \")\n",
    "tmp = paste(y, tmp, sep = \" ~ \")\n",
    "tmp"
   ]
  },
  {
   "cell_type": "code",
   "execution_count": 21,
   "metadata": {},
   "outputs": [
    {
     "data": {
      "text/plain": [
       "\n",
       "Call:\n",
       "glm(formula = as.formula(tmp), family = poisson(link = \"log\"), \n",
       "    data = df)\n",
       "\n",
       "Deviance Residuals: \n",
       "    Min       1Q   Median       3Q      Max  \n",
       "-5.4144  -0.8430   0.2956   0.4508   3.1314  \n",
       "\n",
       "Coefficients:\n",
       "                                            Estimate Std. Error z value\n",
       "(Intercept)                               -5.220e-01  2.536e-02 -20.585\n",
       "age                                        2.474e-03  3.142e-04   7.875\n",
       "credit_bucketfair                          5.260e-02  2.247e-02   2.341\n",
       "credit_bucketgood                          2.832e-02  2.466e-02   1.148\n",
       "credit_bucketpoor                          1.274e-01  2.168e-02   5.877\n",
       "first_click_count_credit_card              1.540e-02  3.552e-03   4.336\n",
       "first_click_count_personal_loan           -3.927e-02  8.627e-03  -4.552\n",
       "first_click_count_mortgage                -1.289e-01  4.804e-02  -2.684\n",
       "first_click_count_credit_repair           -4.009e-02  3.744e-02  -1.071\n",
       "first_click_count_banking                 -8.016e-02  9.127e-02  -0.878\n",
       "first_click_count_auto_products           -2.686e-02  7.557e-02  -0.355\n",
       "first_click_count_credit_card_apply        2.951e-02  3.186e-03   9.261\n",
       "first_click_count_personal_loan_apply     -1.722e-01  9.854e-03 -17.480\n",
       "first_click_count_mortgage_apply          -8.305e-02  1.519e-02  -5.466\n",
       "first_click_count_credit_repair_apply     -6.856e-02  2.247e-02  -3.052\n",
       "first_click_count_banking_apply            2.280e-03  1.014e-01   0.022\n",
       "first_click_count_auto_products_apply     -7.234e-02  2.943e-02  -2.458\n",
       "tradelines_avg_days_since_opened          -1.564e-05  4.644e-06  -3.367\n",
       "count_tradelines_condition_derogatory      3.956e-03  1.389e-03   2.848\n",
       "count_tradelines_open_collection_accounts -5.645e-03  2.214e-03  -2.550\n",
       "total_tradelines_amount_past_due          -6.897e-07  5.198e-07  -1.327\n",
       "avg_cc_utilization_ratio                  -2.113e-02  1.165e-02  -1.814\n",
       "total_mortgage_loans_amount               -8.275e-08  5.360e-08  -1.544\n",
       "count_inquiries_3_months                  -2.271e-03  3.191e-03  -0.712\n",
       "count_inquiries_6_months                   2.305e-03  2.994e-03   0.770\n",
       "count_inquiries_12_months                 -3.040e-03  1.542e-03  -1.971\n",
       "count_bankruptcy                          -5.400e-03  1.026e-02  -0.526\n",
       "                                          Pr(>|z|)    \n",
       "(Intercept)                                < 2e-16 ***\n",
       "age                                       3.41e-15 ***\n",
       "credit_bucketfair                         0.019214 *  \n",
       "credit_bucketgood                         0.250871    \n",
       "credit_bucketpoor                         4.17e-09 ***\n",
       "first_click_count_credit_card             1.45e-05 ***\n",
       "first_click_count_personal_loan           5.32e-06 ***\n",
       "first_click_count_mortgage                0.007268 ** \n",
       "first_click_count_credit_repair           0.284342    \n",
       "first_click_count_banking                 0.379802    \n",
       "first_click_count_auto_products           0.722235    \n",
       "first_click_count_credit_card_apply        < 2e-16 ***\n",
       "first_click_count_personal_loan_apply      < 2e-16 ***\n",
       "first_click_count_mortgage_apply          4.61e-08 ***\n",
       "first_click_count_credit_repair_apply     0.002274 ** \n",
       "first_click_count_banking_apply           0.982066    \n",
       "first_click_count_auto_products_apply     0.013978 *  \n",
       "tradelines_avg_days_since_opened          0.000759 ***\n",
       "count_tradelines_condition_derogatory     0.004402 ** \n",
       "count_tradelines_open_collection_accounts 0.010782 *  \n",
       "total_tradelines_amount_past_due          0.184573    \n",
       "avg_cc_utilization_ratio                  0.069677 .  \n",
       "total_mortgage_loans_amount               0.122609    \n",
       "count_inquiries_3_months                  0.476672    \n",
       "count_inquiries_6_months                  0.441434    \n",
       "count_inquiries_12_months                 0.048699 *  \n",
       "count_bankruptcy                          0.598608    \n",
       "---\n",
       "Signif. codes:  0 ‘***’ 0.001 ‘**’ 0.01 ‘*’ 0.05 ‘.’ 0.1 ‘ ’ 1\n",
       "\n",
       "(Dispersion parameter for poisson family taken to be 1)\n",
       "\n",
       "    Null deviance: 23470  on 29171  degrees of freedom\n",
       "Residual deviance: 22671  on 29145  degrees of freedom\n",
       "AIC: 83452\n",
       "\n",
       "Number of Fisher Scoring iterations: 5\n"
      ]
     },
     "metadata": {},
     "output_type": "display_data"
    }
   ],
   "source": [
    "fit = glm(as.formula(tmp), \n",
    "          family = poisson(link = \"log\"), \n",
    "          data = df)\n",
    "summary(fit)"
   ]
  },
  {
   "cell_type": "code",
   "execution_count": 13,
   "metadata": {},
   "outputs": [
    {
     "name": "stdout",
     "output_type": "stream",
     "text": [
      " [1] \"age\"                                      \n",
      " [2] \"credit_bucketfair\"                        \n",
      " [3] \"credit_bucketgood\"                        \n",
      " [4] \"credit_bucketpoor\"                        \n",
      " [5] \"first_click_count_credit_card\"            \n",
      " [6] \"first_click_count_personal_loan\"          \n",
      " [7] \"first_click_count_mortgage\"               \n",
      " [8] \"first_click_count_credit_repair\"          \n",
      " [9] \"first_click_count_banking\"                \n",
      "[10] \"first_click_count_auto_products\"          \n",
      "[11] \"first_click_count_credit_card_apply\"      \n",
      "[12] \"first_click_count_personal_loan_apply\"    \n",
      "[13] \"first_click_count_mortgage_apply\"         \n",
      "[14] \"first_click_count_credit_repair_apply\"    \n",
      "[15] \"first_click_count_banking_apply\"          \n",
      "[16] \"first_click_count_auto_products_apply\"    \n",
      "[17] \"tradelines_avg_days_since_opened\"         \n",
      "[18] \"count_tradelines_condition_derogatory\"    \n",
      "[19] \"count_tradelines_open_collection_accounts\"\n",
      "[20] \"total_tradelines_amount_past_due\"         \n",
      "[21] \"avg_cc_utilization_ratio\"                 \n",
      "[22] \"total_mortgage_loans_amount\"              \n",
      "[23] \"count_inquiries_3_months\"                 \n",
      "[24] \"count_inquiries_6_months\"                 \n",
      "[25] \"count_inquiries_12_months\"                \n",
      "[26] \"count_bankruptcy\"                         \n"
     ]
    }
   ],
   "source": [
    "tmp = coef(fit)[-1]\n",
    "print(names(tmp))"
   ]
  },
  {
   "cell_type": "code",
   "execution_count": 14,
   "metadata": {},
   "outputs": [
    {
     "data": {
      "text/html": [
       "<table>\n",
       "<thead><tr><th></th><th scope=col>click_apply_count</th><th scope=col>age</th><th scope=col>credit_bucketfair</th><th scope=col>credit_bucketgood</th><th scope=col>credit_bucketpoor</th><th scope=col>first_click_count_credit_card</th><th scope=col>first_click_count_personal_loan</th><th scope=col>first_click_count_mortgage</th><th scope=col>first_click_count_credit_repair</th><th scope=col>first_click_count_banking</th><th scope=col>⋯</th><th scope=col>tradelines_avg_days_since_opened</th><th scope=col>count_tradelines_condition_derogatory</th><th scope=col>count_tradelines_open_collection_accounts</th><th scope=col>total_tradelines_amount_past_due</th><th scope=col>avg_cc_utilization_ratio</th><th scope=col>total_mortgage_loans_amount</th><th scope=col>count_inquiries_3_months</th><th scope=col>count_inquiries_6_months</th><th scope=col>count_inquiries_12_months</th><th scope=col>count_bankruptcy</th></tr></thead>\n",
       "<tbody>\n",
       "\t<tr><th scope=row>3</th><td>3      </td><td>47.5   </td><td>0      </td><td>0      </td><td>1      </td><td>0      </td><td>0      </td><td>0      </td><td>0      </td><td>0      </td><td>⋯      </td><td> 698.22</td><td> 6     </td><td>6      </td><td>   0   </td><td>0.09   </td><td>    0  </td><td>0      </td><td>0      </td><td> 1     </td><td>0      </td></tr>\n",
       "\t<tr><th scope=row>4</th><td>1      </td><td>42.5   </td><td>0      </td><td>0      </td><td>1      </td><td>0      </td><td>0      </td><td>0      </td><td>0      </td><td>0      </td><td>⋯      </td><td> 806.00</td><td> 2     </td><td>0      </td><td>7688   </td><td>1.09   </td><td>    0  </td><td>7      </td><td>8      </td><td> 9     </td><td>0      </td></tr>\n",
       "\t<tr><th scope=row>5</th><td>1      </td><td>52.5   </td><td>0      </td><td>0      </td><td>1      </td><td>0      </td><td>0      </td><td>0      </td><td>0      </td><td>0      </td><td>⋯      </td><td> 256.00</td><td> 0     </td><td>0      </td><td>   0   </td><td>0.04   </td><td>    0  </td><td>0      </td><td>0      </td><td> 3     </td><td>0      </td></tr>\n",
       "\t<tr><th scope=row>9</th><td>1      </td><td>52.5   </td><td>0      </td><td>0      </td><td>1      </td><td>0      </td><td>0      </td><td>0      </td><td>0      </td><td>0      </td><td>⋯      </td><td>1231.07</td><td>31     </td><td>0      </td><td>1801   </td><td>0.47   </td><td>86743  </td><td>0      </td><td>1      </td><td> 3     </td><td>1      </td></tr>\n",
       "\t<tr><th scope=row>11</th><td>4      </td><td>37.5   </td><td>0      </td><td>0      </td><td>1      </td><td>0      </td><td>2      </td><td>0      </td><td>0      </td><td>0      </td><td>⋯      </td><td> 946.57</td><td> 2     </td><td>1      </td><td>   0   </td><td>0.92   </td><td>42500  </td><td>0      </td><td>3      </td><td>11     </td><td>1      </td></tr>\n",
       "\t<tr><th scope=row>14</th><td>2      </td><td>32.5   </td><td>1      </td><td>0      </td><td>0      </td><td>0      </td><td>0      </td><td>0      </td><td>0      </td><td>0      </td><td>⋯      </td><td>1542.20</td><td> 1     </td><td>1      </td><td>   0   </td><td>0.26   </td><td>    0  </td><td>0      </td><td>2      </td><td> 2     </td><td>0      </td></tr>\n",
       "</tbody>\n",
       "</table>\n"
      ],
      "text/latex": [
       "\\begin{tabular}{r|lllllllllllllllllllllllllll}\n",
       "  & click\\_apply\\_count & age & credit\\_bucketfair & credit\\_bucketgood & credit\\_bucketpoor & first\\_click\\_count\\_credit\\_card & first\\_click\\_count\\_personal\\_loan & first\\_click\\_count\\_mortgage & first\\_click\\_count\\_credit\\_repair & first\\_click\\_count\\_banking & ⋯ & tradelines\\_avg\\_days\\_since\\_opened & count\\_tradelines\\_condition\\_derogatory & count\\_tradelines\\_open\\_collection\\_accounts & total\\_tradelines\\_amount\\_past\\_due & avg\\_cc\\_utilization\\_ratio & total\\_mortgage\\_loans\\_amount & count\\_inquiries\\_3\\_months & count\\_inquiries\\_6\\_months & count\\_inquiries\\_12\\_months & count\\_bankruptcy\\\\\n",
       "\\hline\n",
       "\t3 & 3       & 47.5    & 0       & 0       & 1       & 0       & 0       & 0       & 0       & 0       & ⋯       &  698.22 &  6      & 6       &    0    & 0.09    &     0   & 0       & 0       &  1      & 0      \\\\\n",
       "\t4 & 1       & 42.5    & 0       & 0       & 1       & 0       & 0       & 0       & 0       & 0       & ⋯       &  806.00 &  2      & 0       & 7688    & 1.09    &     0   & 7       & 8       &  9      & 0      \\\\\n",
       "\t5 & 1       & 52.5    & 0       & 0       & 1       & 0       & 0       & 0       & 0       & 0       & ⋯       &  256.00 &  0      & 0       &    0    & 0.04    &     0   & 0       & 0       &  3      & 0      \\\\\n",
       "\t9 & 1       & 52.5    & 0       & 0       & 1       & 0       & 0       & 0       & 0       & 0       & ⋯       & 1231.07 & 31      & 0       & 1801    & 0.47    & 86743   & 0       & 1       &  3      & 1      \\\\\n",
       "\t11 & 4       & 37.5    & 0       & 0       & 1       & 0       & 2       & 0       & 0       & 0       & ⋯       &  946.57 &  2      & 1       &    0    & 0.92    & 42500   & 0       & 3       & 11      & 1      \\\\\n",
       "\t14 & 2       & 32.5    & 1       & 0       & 0       & 0       & 0       & 0       & 0       & 0       & ⋯       & 1542.20 &  1      & 1       &    0    & 0.26    &     0   & 0       & 2       &  2      & 0      \\\\\n",
       "\\end{tabular}\n"
      ],
      "text/markdown": [
       "\n",
       "| <!--/--> | click_apply_count | age | credit_bucketfair | credit_bucketgood | credit_bucketpoor | first_click_count_credit_card | first_click_count_personal_loan | first_click_count_mortgage | first_click_count_credit_repair | first_click_count_banking | ⋯ | tradelines_avg_days_since_opened | count_tradelines_condition_derogatory | count_tradelines_open_collection_accounts | total_tradelines_amount_past_due | avg_cc_utilization_ratio | total_mortgage_loans_amount | count_inquiries_3_months | count_inquiries_6_months | count_inquiries_12_months | count_bankruptcy | \n",
       "|---|---|---|---|---|---|\n",
       "| 3 | 3       | 47.5    | 0       | 0       | 1       | 0       | 0       | 0       | 0       | 0       | ⋯       |  698.22 |  6      | 6       |    0    | 0.09    |     0   | 0       | 0       |  1      | 0       | \n",
       "| 4 | 1       | 42.5    | 0       | 0       | 1       | 0       | 0       | 0       | 0       | 0       | ⋯       |  806.00 |  2      | 0       | 7688    | 1.09    |     0   | 7       | 8       |  9      | 0       | \n",
       "| 5 | 1       | 52.5    | 0       | 0       | 1       | 0       | 0       | 0       | 0       | 0       | ⋯       |  256.00 |  0      | 0       |    0    | 0.04    |     0   | 0       | 0       |  3      | 0       | \n",
       "| 9 | 1       | 52.5    | 0       | 0       | 1       | 0       | 0       | 0       | 0       | 0       | ⋯       | 1231.07 | 31      | 0       | 1801    | 0.47    | 86743   | 0       | 1       |  3      | 1       | \n",
       "| 11 | 4       | 37.5    | 0       | 0       | 1       | 0       | 2       | 0       | 0       | 0       | ⋯       |  946.57 |  2      | 1       |    0    | 0.92    | 42500   | 0       | 3       | 11      | 1       | \n",
       "| 14 | 2       | 32.5    | 1       | 0       | 0       | 0       | 0       | 0       | 0       | 0       | ⋯       | 1542.20 |  1      | 1       |    0    | 0.26    |     0   | 0       | 2       |  2      | 0       | \n",
       "\n",
       "\n"
      ],
      "text/plain": [
       "   click_apply_count age  credit_bucketfair credit_bucketgood credit_bucketpoor\n",
       "3  3                 47.5 0                 0                 1                \n",
       "4  1                 42.5 0                 0                 1                \n",
       "5  1                 52.5 0                 0                 1                \n",
       "9  1                 52.5 0                 0                 1                \n",
       "11 4                 37.5 0                 0                 1                \n",
       "14 2                 32.5 1                 0                 0                \n",
       "   first_click_count_credit_card first_click_count_personal_loan\n",
       "3  0                             0                              \n",
       "4  0                             0                              \n",
       "5  0                             0                              \n",
       "9  0                             0                              \n",
       "11 0                             2                              \n",
       "14 0                             0                              \n",
       "   first_click_count_mortgage first_click_count_credit_repair\n",
       "3  0                          0                              \n",
       "4  0                          0                              \n",
       "5  0                          0                              \n",
       "9  0                          0                              \n",
       "11 0                          0                              \n",
       "14 0                          0                              \n",
       "   first_click_count_banking ⋯ tradelines_avg_days_since_opened\n",
       "3  0                         ⋯  698.22                         \n",
       "4  0                         ⋯  806.00                         \n",
       "5  0                         ⋯  256.00                         \n",
       "9  0                         ⋯ 1231.07                         \n",
       "11 0                         ⋯  946.57                         \n",
       "14 0                         ⋯ 1542.20                         \n",
       "   count_tradelines_condition_derogatory\n",
       "3   6                                   \n",
       "4   2                                   \n",
       "5   0                                   \n",
       "9  31                                   \n",
       "11  2                                   \n",
       "14  1                                   \n",
       "   count_tradelines_open_collection_accounts total_tradelines_amount_past_due\n",
       "3  6                                            0                            \n",
       "4  0                                         7688                            \n",
       "5  0                                            0                            \n",
       "9  0                                         1801                            \n",
       "11 1                                            0                            \n",
       "14 1                                            0                            \n",
       "   avg_cc_utilization_ratio total_mortgage_loans_amount\n",
       "3  0.09                         0                      \n",
       "4  1.09                         0                      \n",
       "5  0.04                         0                      \n",
       "9  0.47                     86743                      \n",
       "11 0.92                     42500                      \n",
       "14 0.26                         0                      \n",
       "   count_inquiries_3_months count_inquiries_6_months count_inquiries_12_months\n",
       "3  0                        0                         1                       \n",
       "4  7                        8                         9                       \n",
       "5  0                        0                         3                       \n",
       "9  0                        1                         3                       \n",
       "11 0                        3                        11                       \n",
       "14 0                        2                         2                       \n",
       "   count_bankruptcy\n",
       "3  0               \n",
       "4  0               \n",
       "5  0               \n",
       "9  1               \n",
       "11 1               \n",
       "14 0               "
      ]
     },
     "metadata": {},
     "output_type": "display_data"
    }
   ],
   "source": [
    "head(df[, c(\"click_apply_count\", names(tmp))])"
   ]
  },
  {
   "cell_type": "code",
   "execution_count": 22,
   "metadata": {},
   "outputs": [
    {
     "data": {
      "text/html": [
       "<dl class=dl-horizontal>\n",
       "\t<dt>3</dt>\n",
       "\t\t<dd>2.35033654648318</dd>\n",
       "\t<dt>4</dt>\n",
       "\t\t<dd>0.706596742008397</dd>\n",
       "\t<dt>5</dt>\n",
       "\t\t<dd>0.717333165080084</dd>\n",
       "\t<dt>9</dt>\n",
       "\t\t<dd>0.825396469970479</dd>\n",
       "\t<dt>11</dt>\n",
       "\t\t<dd>1.30929679838475</dd>\n",
       "\t<dt>14</dt>\n",
       "\t\t<dd>1.35108216972842</dd>\n",
       "</dl>\n"
      ],
      "text/latex": [
       "\\begin{description*}\n",
       "\\item[3] 2.35033654648318\n",
       "\\item[4] 0.706596742008397\n",
       "\\item[5] 0.717333165080084\n",
       "\\item[9] 0.825396469970479\n",
       "\\item[11] 1.30929679838475\n",
       "\\item[14] 1.35108216972842\n",
       "\\end{description*}\n"
      ],
      "text/markdown": [
       "3\n",
       ":   2.350336546483184\n",
       ":   0.7065967420083975\n",
       ":   0.7173331650800849\n",
       ":   0.82539646997047911\n",
       ":   1.3092967983847514\n",
       ":   1.35108216972842\n",
       "\n"
      ],
      "text/plain": [
       "        3         4         5         9        11        14 \n",
       "2.3503365 0.7065967 0.7173332 0.8253965 1.3092968 1.3510822 "
      ]
     },
     "metadata": {},
     "output_type": "display_data"
    }
   ],
   "source": [
    "#new_obj = df[, c(\"click_apply_count\", names(tmp))]\n",
    "#new_obj$click_apply_count = df$click_apply_count\n",
    "\n",
    "pred = predict(fit, df)\n",
    "head(exp(pred))\n",
    "#head(new_obj)"
   ]
  },
  {
   "cell_type": "code",
   "execution_count": 24,
   "metadata": {},
   "outputs": [
    {
     "data": {
      "text/html": [
       "<table>\n",
       "<thead><tr><th></th><th scope=col>y</th><th scope=col>fit</th><th scope=col>n</th></tr></thead>\n",
       "<tbody>\n",
       "\t<tr><th scope=row>3</th><td>3        </td><td>2.3503365</td><td>3        </td></tr>\n",
       "\t<tr><th scope=row>4</th><td>1        </td><td>0.7065967</td><td>1        </td></tr>\n",
       "\t<tr><th scope=row>5</th><td>1        </td><td>0.7173332</td><td>1        </td></tr>\n",
       "\t<tr><th scope=row>9</th><td>0        </td><td>0.8253965</td><td>1        </td></tr>\n",
       "\t<tr><th scope=row>11</th><td>2        </td><td>1.3092968</td><td>4        </td></tr>\n",
       "\t<tr><th scope=row>14</th><td>1        </td><td>1.3510822</td><td>2        </td></tr>\n",
       "</tbody>\n",
       "</table>\n"
      ],
      "text/latex": [
       "\\begin{tabular}{r|lll}\n",
       "  & y & fit & n\\\\\n",
       "\\hline\n",
       "\t3 & 3         & 2.3503365 & 3        \\\\\n",
       "\t4 & 1         & 0.7065967 & 1        \\\\\n",
       "\t5 & 1         & 0.7173332 & 1        \\\\\n",
       "\t9 & 0         & 0.8253965 & 1        \\\\\n",
       "\t11 & 2         & 1.3092968 & 4        \\\\\n",
       "\t14 & 1         & 1.3510822 & 2        \\\\\n",
       "\\end{tabular}\n"
      ],
      "text/markdown": [
       "\n",
       "| <!--/--> | y | fit | n | \n",
       "|---|---|---|---|---|---|\n",
       "| 3 | 3         | 2.3503365 | 3         | \n",
       "| 4 | 1         | 0.7065967 | 1         | \n",
       "| 5 | 1         | 0.7173332 | 1         | \n",
       "| 9 | 0         | 0.8253965 | 1         | \n",
       "| 11 | 2         | 1.3092968 | 4         | \n",
       "| 14 | 1         | 1.3510822 | 2         | \n",
       "\n",
       "\n"
      ],
      "text/plain": [
       "   y fit       n\n",
       "3  3 2.3503365 3\n",
       "4  1 0.7065967 1\n",
       "5  1 0.7173332 1\n",
       "9  0 0.8253965 1\n",
       "11 2 1.3092968 4\n",
       "14 1 1.3510822 2"
      ]
     },
     "metadata": {},
     "output_type": "display_data"
    }
   ],
   "source": [
    "tmp = data.frame(y = fit$y, fit = fit$fitted.values, n = exp(fit$offset))\n",
    "head(tmp)"
   ]
  },
  {
   "cell_type": "code",
   "execution_count": 57,
   "metadata": {},
   "outputs": [
    {
     "data": {
      "text/html": [
       "<table>\n",
       "<thead><tr><th scope=col>y</th><th scope=col>fit</th><th scope=col>n</th><th scope=col>Rate</th><th scope=col>User</th></tr></thead>\n",
       "<tbody>\n",
       "\t<tr><td>1        </td><td>0.2200799</td><td>1        </td><td>0.2200799</td><td>1        </td></tr>\n",
       "\t<tr><td>0        </td><td>0.3163234</td><td>1        </td><td>0.3163234</td><td>2        </td></tr>\n",
       "\t<tr><td>1        </td><td>0.9971645</td><td>3        </td><td>0.3323882</td><td>3        </td></tr>\n",
       "\t<tr><td>0        </td><td>2.5520919</td><td>7        </td><td>0.3645846</td><td>4        </td></tr>\n",
       "\t<tr><td>1        </td><td>0.4159074</td><td>1        </td><td>0.4159074</td><td>5        </td></tr>\n",
       "\t<tr><td>0        </td><td>0.8532297</td><td>2        </td><td>0.4266149</td><td>6        </td></tr>\n",
       "</tbody>\n",
       "</table>\n"
      ],
      "text/latex": [
       "\\begin{tabular}{r|lllll}\n",
       " y & fit & n & Rate & User\\\\\n",
       "\\hline\n",
       "\t 1         & 0.2200799 & 1         & 0.2200799 & 1        \\\\\n",
       "\t 0         & 0.3163234 & 1         & 0.3163234 & 2        \\\\\n",
       "\t 1         & 0.9971645 & 3         & 0.3323882 & 3        \\\\\n",
       "\t 0         & 2.5520919 & 7         & 0.3645846 & 4        \\\\\n",
       "\t 1         & 0.4159074 & 1         & 0.4159074 & 5        \\\\\n",
       "\t 0         & 0.8532297 & 2         & 0.4266149 & 6        \\\\\n",
       "\\end{tabular}\n"
      ],
      "text/markdown": [
       "\n",
       "y | fit | n | Rate | User | \n",
       "|---|---|---|---|---|---|\n",
       "| 1         | 0.2200799 | 1         | 0.2200799 | 1         | \n",
       "| 0         | 0.3163234 | 1         | 0.3163234 | 2         | \n",
       "| 1         | 0.9971645 | 3         | 0.3323882 | 3         | \n",
       "| 0         | 2.5520919 | 7         | 0.3645846 | 4         | \n",
       "| 1         | 0.4159074 | 1         | 0.4159074 | 5         | \n",
       "| 0         | 0.8532297 | 2         | 0.4266149 | 6         | \n",
       "\n",
       "\n"
      ],
      "text/plain": [
       "  y fit       n Rate      User\n",
       "1 1 0.2200799 1 0.2200799 1   \n",
       "2 0 0.3163234 1 0.3163234 2   \n",
       "3 1 0.9971645 3 0.3323882 3   \n",
       "4 0 2.5520919 7 0.3645846 4   \n",
       "5 1 0.4159074 1 0.4159074 5   \n",
       "6 0 0.8532297 2 0.4266149 6   "
      ]
     },
     "metadata": {},
     "output_type": "display_data"
    }
   ],
   "source": [
    "x = tmp %>% mutate(Rate = fit / n) %>% sample_n(1000) %>% arrange(Rate)\n",
    "x$User = 1:nrow(x)\n",
    "#x = x %>% sample_n(10000)\n",
    "head(x)"
   ]
  },
  {
   "cell_type": "code",
   "execution_count": 62,
   "metadata": {},
   "outputs": [
    {
     "name": "stderr",
     "output_type": "stream",
     "text": [
      "Warning message:\n",
      "“Removed 1 rows containing missing values (position_stack).”"
     ]
    },
    {
     "data": {},
     "metadata": {},
     "output_type": "display_data"
    },
    {
     "data": {
      "image/png": "[encoded data removed]",
      "text/plain": [
       "plot without title"
      ]
     },
     "metadata": {},
     "output_type": "display_data"
    }
   ],
   "source": [
    "options(repr.plot.height = 4, repr.plot.width = 4)\n",
    "ggplot(x, aes(x = User, y = Rate)) + \n",
    "    geom_bar(stat=\"identity\", width=1.0) + ylim(c(0, 1.5)) + theme(axis.text.x = element_blank()) +\n",
    "labs(title = \"Sorted Rate of\\nApplying Credit Card for Users\", y = \"Rate of applying credit card\")"
   ]
  },
  {
   "cell_type": "code",
   "execution_count": 111,
   "metadata": {},
   "outputs": [
    {
     "data": {
      "text/html": [
       "<dl class=dl-horizontal>\n",
       "\t<dt>3</dt>\n",
       "\t\t<dd>3</dd>\n",
       "\t<dt>4</dt>\n",
       "\t\t<dd>1</dd>\n",
       "\t<dt>5</dt>\n",
       "\t\t<dd>1</dd>\n",
       "\t<dt>9</dt>\n",
       "\t\t<dd>0</dd>\n",
       "\t<dt>11</dt>\n",
       "\t\t<dd>2</dd>\n",
       "\t<dt>14</dt>\n",
       "\t\t<dd>1</dd>\n",
       "</dl>\n"
      ],
      "text/latex": [
       "\\begin{description*}\n",
       "\\item[3] 3\n",
       "\\item[4] 1\n",
       "\\item[5] 1\n",
       "\\item[9] 0\n",
       "\\item[11] 2\n",
       "\\item[14] 1\n",
       "\\end{description*}\n"
      ],
      "text/markdown": [
       "3\n",
       ":   34\n",
       ":   15\n",
       ":   19\n",
       ":   011\n",
       ":   214\n",
       ":   1\n",
       "\n"
      ],
      "text/plain": [
       " 3  4  5  9 11 14 \n",
       " 3  1  1  0  2  1 "
      ]
     },
     "metadata": {},
     "output_type": "display_data"
    }
   ],
   "source": [
    "head(fit$y)"
   ]
  },
  {
   "cell_type": "code",
   "execution_count": null,
   "metadata": {},
   "outputs": [],
   "source": []
  },
  {
   "cell_type": "code",
   "execution_count": null,
   "metadata": {},
   "outputs": [],
   "source": []
  },
  {
   "cell_type": "code",
   "execution_count": 7,
   "metadata": {},
   "outputs": [
    {
     "data": {},
     "metadata": {},
     "output_type": "display_data"
    },
    {
     "data": {
      "image/png": "[encoded data removed]",
      "text/plain": [
       "plot without title"
      ]
     },
     "metadata": {},
     "output_type": "display_data"
    }
   ],
   "source": [
    "options(repr.plot.height = 3, repr.plotwidth = 3)\n",
    "df = data.frame(x = dat$first_click_count_credit_card, y = dat$click_count_credit_card)\n",
    "df %>% \n",
    "    ggplot(., aes(x = x, y = y)) + \n",
    "    geom_point() + labs(y = \"click_count_credit_card\", x = \"first_click_count_credit_card\") + \n",
    "    geom_smooth(method = \"lm\")"
   ]
  },
  {
   "cell_type": "code",
   "execution_count": 25,
   "metadata": {},
   "outputs": [],
   "source": [
    "col_y = c('click_count_credit_card_apply',\n",
    "          'click_count_personal_loan_apply', \n",
    "          'click_count_mortgage_apply',\n",
    "          'click_count_credit_repair_apply',\n",
    "          'click_count_banking_apply',\n",
    "          'click_count_auto_products_apply')"
   ]
  },
  {
   "cell_type": "code",
   "execution_count": 26,
   "metadata": {},
   "outputs": [
    {
     "name": "stdout",
     "output_type": "stream",
     "text": [
      "[1] \"click_count_credit_card_apply\"\n",
      "[1] \"click_count_personal_loan_apply\"\n",
      "[1] \"click_count_mortgage_apply\"\n",
      "[1] \"click_count_credit_repair_apply\"\n",
      "[1] \"click_count_banking_apply\"\n",
      "[1] \"click_count_auto_products_apply\"\n"
     ]
    }
   ],
   "source": [
    "for (y in col_y){\n",
    "    print(y)\n",
    "}"
   ]
  },
  {
   "cell_type": "code",
   "execution_count": 10,
   "metadata": {},
   "outputs": [
    {
     "data": {
      "text/plain": [
       "\n",
       "    0     1     2     3     4     5     6     7     8     9    10    11    12 \n",
       "98208 15408  7624  3613  2685  1577  1269   804   697   520   417   321   259 \n",
       "   13    14    15    16    17    18    19    20    21    22    23    24    25 \n",
       "  191   180   129   116    88    77    80    59    55    42    32    27    29 \n",
       "   26    27    28    29    30    31    32    33    34    35    36    37    38 \n",
       "   20    35    21    10    15    11     9    19     8     9     5     7     7 \n",
       "   39    40    41    42    43    44    45    46    47    48    49    50    51 \n",
       "    7     5     4     3     8     2     4     4     6     2     3     1     3 \n",
       "   52    53    54    55    57    58    59    60    61    64    66    68    70 \n",
       "    1     1     1     2     5     2     1     2     1     1     1     1     1 \n",
       "   73    75    82    97    98   110   125   165   178 \n",
       "    1     1     1     1     1     1     1     1     1 "
      ]
     },
     "metadata": {},
     "output_type": "display_data"
    }
   ],
   "source": [
    "table(dat$click_count_credit_card)"
   ]
  },
  {
   "cell_type": "code",
   "execution_count": 8,
   "metadata": {},
   "outputs": [],
   "source": [
    "fit = glm(click_count_credit_card ~ offset(log(click_count)) + first_click_count_credit_card, \n",
    "          family = poisson(link = \"log\"), \n",
    "          data = dat)"
   ]
  },
  {
   "cell_type": "code",
   "execution_count": null,
   "metadata": {},
   "outputs": [],
   "source": []
  },
  {
   "cell_type": "code",
   "execution_count": 15,
   "metadata": {},
   "outputs": [
    {
     "data": {
      "text/html": [
       "<table>\n",
       "<thead><tr><th></th><th scope=col>Estimate</th><th scope=col>Std. Error</th><th scope=col>z value</th><th scope=col>Pr(&gt;|z|)</th></tr></thead>\n",
       "<tbody>\n",
       "\t<tr><th scope=row>(Intercept)</th><td>-3.73355632</td><td>0.002934010</td><td>-1272.50988</td><td>0          </td></tr>\n",
       "\t<tr><th scope=row>first_click_count_credit_card</th><td> 0.09921845</td><td>0.001195306</td><td>   83.00675</td><td>0          </td></tr>\n",
       "</tbody>\n",
       "</table>\n"
      ],
      "text/latex": [
       "\\begin{tabular}{r|llll}\n",
       "  & Estimate & Std. Error & z value & Pr(>\\textbar{}z\\textbar{})\\\\\n",
       "\\hline\n",
       "\t(Intercept) & -3.73355632 & 0.002934010 & -1272.50988 & 0          \\\\\n",
       "\tfirst\\_click\\_count\\_credit\\_card &  0.09921845 & 0.001195306 &    83.00675 & 0          \\\\\n",
       "\\end{tabular}\n"
      ],
      "text/markdown": [
       "\n",
       "| <!--/--> | Estimate | Std. Error | z value | Pr(>|z|) | \n",
       "|---|---|\n",
       "| (Intercept) | -3.73355632 | 0.002934010 | -1272.50988 | 0           | \n",
       "| first_click_count_credit_card |  0.09921845 | 0.001195306 |    83.00675 | 0           | \n",
       "\n",
       "\n"
      ],
      "text/plain": [
       "                              Estimate    Std. Error  z value     Pr(>|z|)\n",
       "(Intercept)                   -3.73355632 0.002934010 -1272.50988 0       \n",
       "first_click_count_credit_card  0.09921845 0.001195306    83.00675 0       "
      ]
     },
     "metadata": {},
     "output_type": "display_data"
    }
   ],
   "source": [
    "summary(fit)$coef"
   ]
  },
  {
   "cell_type": "code",
   "execution_count": 21,
   "metadata": {},
   "outputs": [
    {
     "data": {
      "text/html": [
       "<ol class=list-inline>\n",
       "\t<li>'user_id'</li>\n",
       "\t<li>'session_length'</li>\n",
       "\t<li>'click_count'</li>\n",
       "\t<li>'click_count_credit_card'</li>\n",
       "\t<li>'click_count_personal_loan'</li>\n",
       "\t<li>'click_count_mortgage'</li>\n",
       "\t<li>'click_count_credit_repair'</li>\n",
       "\t<li>'click_count_banking'</li>\n",
       "\t<li>'click_count_auto_products'</li>\n",
       "\t<li>'click_apply_count'</li>\n",
       "\t<li>'click_count_credit_card.1'</li>\n",
       "\t<li>'click_count_personal_loan.1'</li>\n",
       "\t<li>'click_count_mortgage.1'</li>\n",
       "\t<li>'click_count_credit_repair.1'</li>\n",
       "\t<li>'click_count_banking.1'</li>\n",
       "\t<li>'click_count_auto_products.1'</li>\n",
       "\t<li>'age_bucket'</li>\n",
       "\t<li>'age_bucket_bound_lower'</li>\n",
       "\t<li>'age_bucket_bound_upper'</li>\n",
       "\t<li>'age'</li>\n",
       "\t<li>'credit_score_bucket'</li>\n",
       "\t<li>'credit_score_bound_lower'</li>\n",
       "\t<li>'credit_score_bound_upper'</li>\n",
       "\t<li>'credit_bucket'</li>\n",
       "\t<li>'first_session_id'</li>\n",
       "\t<li>'first_session_length'</li>\n",
       "\t<li>'first_click_count'</li>\n",
       "\t<li>'first_click_count_credit_card'</li>\n",
       "\t<li>'first_click_count_personal_loan'</li>\n",
       "\t<li>'first_click_count_mortgage'</li>\n",
       "\t<li>'first_click_count_credit_repair'</li>\n",
       "\t<li>'first_click_count_banking'</li>\n",
       "\t<li>'first_click_count_auto_products'</li>\n",
       "\t<li>'first_click_apply_count'</li>\n",
       "\t<li>'first_click_count_credit_card_apply'</li>\n",
       "\t<li>'first_click_count_personal_loan_apply'</li>\n",
       "\t<li>'first_click_count_mortgage_apply'</li>\n",
       "\t<li>'first_click_count_credit_repair_apply'</li>\n",
       "\t<li>'first_click_count_banking_apply'</li>\n",
       "\t<li>'first_click_count_auto_products_apply'</li>\n",
       "\t<li>'first_login_platform'</li>\n",
       "</ol>\n"
      ],
      "text/latex": [
       "\\begin{enumerate*}\n",
       "\\item 'user\\_id'\n",
       "\\item 'session\\_length'\n",
       "\\item 'click\\_count'\n",
       "\\item 'click\\_count\\_credit\\_card'\n",
       "\\item 'click\\_count\\_personal\\_loan'\n",
       "\\item 'click\\_count\\_mortgage'\n",
       "\\item 'click\\_count\\_credit\\_repair'\n",
       "\\item 'click\\_count\\_banking'\n",
       "\\item 'click\\_count\\_auto\\_products'\n",
       "\\item 'click\\_apply\\_count'\n",
       "\\item 'click\\_count\\_credit\\_card.1'\n",
       "\\item 'click\\_count\\_personal\\_loan.1'\n",
       "\\item 'click\\_count\\_mortgage.1'\n",
       "\\item 'click\\_count\\_credit\\_repair.1'\n",
       "\\item 'click\\_count\\_banking.1'\n",
       "\\item 'click\\_count\\_auto\\_products.1'\n",
       "\\item 'age\\_bucket'\n",
       "\\item 'age\\_bucket\\_bound\\_lower'\n",
       "\\item 'age\\_bucket\\_bound\\_upper'\n",
       "\\item 'age'\n",
       "\\item 'credit\\_score\\_bucket'\n",
       "\\item 'credit\\_score\\_bound\\_lower'\n",
       "\\item 'credit\\_score\\_bound\\_upper'\n",
       "\\item 'credit\\_bucket'\n",
       "\\item 'first\\_session\\_id'\n",
       "\\item 'first\\_session\\_length'\n",
       "\\item 'first\\_click\\_count'\n",
       "\\item 'first\\_click\\_count\\_credit\\_card'\n",
       "\\item 'first\\_click\\_count\\_personal\\_loan'\n",
       "\\item 'first\\_click\\_count\\_mortgage'\n",
       "\\item 'first\\_click\\_count\\_credit\\_repair'\n",
       "\\item 'first\\_click\\_count\\_banking'\n",
       "\\item 'first\\_click\\_count\\_auto\\_products'\n",
       "\\item 'first\\_click\\_apply\\_count'\n",
       "\\item 'first\\_click\\_count\\_credit\\_card\\_apply'\n",
       "\\item 'first\\_click\\_count\\_personal\\_loan\\_apply'\n",
       "\\item 'first\\_click\\_count\\_mortgage\\_apply'\n",
       "\\item 'first\\_click\\_count\\_credit\\_repair\\_apply'\n",
       "\\item 'first\\_click\\_count\\_banking\\_apply'\n",
       "\\item 'first\\_click\\_count\\_auto\\_products\\_apply'\n",
       "\\item 'first\\_login\\_platform'\n",
       "\\end{enumerate*}\n"
      ],
      "text/markdown": [
       "1. 'user_id'\n",
       "2. 'session_length'\n",
       "3. 'click_count'\n",
       "4. 'click_count_credit_card'\n",
       "5. 'click_count_personal_loan'\n",
       "6. 'click_count_mortgage'\n",
       "7. 'click_count_credit_repair'\n",
       "8. 'click_count_banking'\n",
       "9. 'click_count_auto_products'\n",
       "10. 'click_apply_count'\n",
       "11. 'click_count_credit_card.1'\n",
       "12. 'click_count_personal_loan.1'\n",
       "13. 'click_count_mortgage.1'\n",
       "14. 'click_count_credit_repair.1'\n",
       "15. 'click_count_banking.1'\n",
       "16. 'click_count_auto_products.1'\n",
       "17. 'age_bucket'\n",
       "18. 'age_bucket_bound_lower'\n",
       "19. 'age_bucket_bound_upper'\n",
       "20. 'age'\n",
       "21. 'credit_score_bucket'\n",
       "22. 'credit_score_bound_lower'\n",
       "23. 'credit_score_bound_upper'\n",
       "24. 'credit_bucket'\n",
       "25. 'first_session_id'\n",
       "26. 'first_session_length'\n",
       "27. 'first_click_count'\n",
       "28. 'first_click_count_credit_card'\n",
       "29. 'first_click_count_personal_loan'\n",
       "30. 'first_click_count_mortgage'\n",
       "31. 'first_click_count_credit_repair'\n",
       "32. 'first_click_count_banking'\n",
       "33. 'first_click_count_auto_products'\n",
       "34. 'first_click_apply_count'\n",
       "35. 'first_click_count_credit_card_apply'\n",
       "36. 'first_click_count_personal_loan_apply'\n",
       "37. 'first_click_count_mortgage_apply'\n",
       "38. 'first_click_count_credit_repair_apply'\n",
       "39. 'first_click_count_banking_apply'\n",
       "40. 'first_click_count_auto_products_apply'\n",
       "41. 'first_login_platform'\n",
       "\n",
       "\n"
      ],
      "text/plain": [
       " [1] \"user_id\"                              \n",
       " [2] \"session_length\"                       \n",
       " [3] \"click_count\"                          \n",
       " [4] \"click_count_credit_card\"              \n",
       " [5] \"click_count_personal_loan\"            \n",
       " [6] \"click_count_mortgage\"                 \n",
       " [7] \"click_count_credit_repair\"            \n",
       " [8] \"click_count_banking\"                  \n",
       " [9] \"click_count_auto_products\"            \n",
       "[10] \"click_apply_count\"                    \n",
       "[11] \"click_count_credit_card.1\"            \n",
       "[12] \"click_count_personal_loan.1\"          \n",
       "[13] \"click_count_mortgage.1\"               \n",
       "[14] \"click_count_credit_repair.1\"          \n",
       "[15] \"click_count_banking.1\"                \n",
       "[16] \"click_count_auto_products.1\"          \n",
       "[17] \"age_bucket\"                           \n",
       "[18] \"age_bucket_bound_lower\"               \n",
       "[19] \"age_bucket_bound_upper\"               \n",
       "[20] \"age\"                                  \n",
       "[21] \"credit_score_bucket\"                  \n",
       "[22] \"credit_score_bound_lower\"             \n",
       "[23] \"credit_score_bound_upper\"             \n",
       "[24] \"credit_bucket\"                        \n",
       "[25] \"first_session_id\"                     \n",
       "[26] \"first_session_length\"                 \n",
       "[27] \"first_click_count\"                    \n",
       "[28] \"first_click_count_credit_card\"        \n",
       "[29] \"first_click_count_personal_loan\"      \n",
       "[30] \"first_click_count_mortgage\"           \n",
       "[31] \"first_click_count_credit_repair\"      \n",
       "[32] \"first_click_count_banking\"            \n",
       "[33] \"first_click_count_auto_products\"      \n",
       "[34] \"first_click_apply_count\"              \n",
       "[35] \"first_click_count_credit_card_apply\"  \n",
       "[36] \"first_click_count_personal_loan_apply\"\n",
       "[37] \"first_click_count_mortgage_apply\"     \n",
       "[38] \"first_click_count_credit_repair_apply\"\n",
       "[39] \"first_click_count_banking_apply\"      \n",
       "[40] \"first_click_count_auto_products_apply\"\n",
       "[41] \"first_login_platform\"                 "
      ]
     },
     "metadata": {},
     "output_type": "display_data"
    }
   ],
   "source": [
    "colnames(dat)"
   ]
  },
  {
   "cell_type": "code",
   "execution_count": 20,
   "metadata": {},
   "outputs": [
    {
     "data": {
      "text/html": [
       "<table>\n",
       "<tbody>\n",
       "\t<tr><th scope=row>1</th><td>1         </td><td>1.63269540</td></tr>\n",
       "\t<tr><th scope=row>2</th><td>0         </td><td>0.16735363</td></tr>\n",
       "\t<tr><th scope=row>3</th><td>0         </td><td>0.57378387</td></tr>\n",
       "\t<tr><th scope=row>4</th><td>9         </td><td>0.90849112</td></tr>\n",
       "\t<tr><th scope=row>5</th><td>1         </td><td>0.02390766</td></tr>\n",
       "\t<tr><th scope=row>6</th><td>0         </td><td>0.52596854</td></tr>\n",
       "\t<tr><th scope=row>7</th><td>0         </td><td>0.09563064</td></tr>\n",
       "\t<tr><th scope=row>8</th><td>0         </td><td>0.62159919</td></tr>\n",
       "\t<tr><th scope=row>9</th><td>0         </td><td>0.09563064</td></tr>\n",
       "\t<tr><th scope=row>10</th><td>4         </td><td>0.54987621</td></tr>\n",
       "</tbody>\n",
       "</table>\n"
      ],
      "text/latex": [
       "\\begin{tabular}{r|ll}\n",
       "\t1 & 1          & 1.63269540\\\\\n",
       "\t2 & 0          & 0.16735363\\\\\n",
       "\t3 & 0          & 0.57378387\\\\\n",
       "\t4 & 9          & 0.90849112\\\\\n",
       "\t5 & 1          & 0.02390766\\\\\n",
       "\t6 & 0          & 0.52596854\\\\\n",
       "\t7 & 0          & 0.09563064\\\\\n",
       "\t8 & 0          & 0.62159919\\\\\n",
       "\t9 & 0          & 0.09563064\\\\\n",
       "\t10 & 4          & 0.54987621\\\\\n",
       "\\end{tabular}\n"
      ],
      "text/markdown": [
       "\n",
       "| 1 | 1          | 1.63269540 | \n",
       "| 2 | 0          | 0.16735363 | \n",
       "| 3 | 0          | 0.57378387 | \n",
       "| 4 | 9          | 0.90849112 | \n",
       "| 5 | 1          | 0.02390766 | \n",
       "| 6 | 0          | 0.52596854 | \n",
       "| 7 | 0          | 0.09563064 | \n",
       "| 8 | 0          | 0.62159919 | \n",
       "| 9 | 0          | 0.09563064 | \n",
       "| 10 | 4          | 0.54987621 | \n",
       "\n",
       "\n"
      ],
      "text/plain": [
       "   [,1] [,2]      \n",
       "1  1    1.63269540\n",
       "2  0    0.16735363\n",
       "3  0    0.57378387\n",
       "4  9    0.90849112\n",
       "5  1    0.02390766\n",
       "6  0    0.52596854\n",
       "7  0    0.09563064\n",
       "8  0    0.62159919\n",
       "9  0    0.09563064\n",
       "10 4    0.54987621"
      ]
     },
     "metadata": {},
     "output_type": "display_data"
    }
   ],
   "source": [
    "head(cbind(dat$click_count_credit_card, fit$fitted.values), 10)"
   ]
  },
  {
   "cell_type": "code",
   "execution_count": 11,
   "metadata": {},
   "outputs": [
    {
     "name": "stdout",
     "output_type": "stream",
     "text": [
      "[1] \"first_click_count\"\n",
      "[1] \"first_click_count_credit_card\"\n",
      "[1] \"first_click_count_personal_loan\"\n",
      "[1] \"first_click_count_mortgage\"\n",
      "[1] \"first_click_count_credit_repair\"\n",
      "[1] \"first_click_count_banking\"\n",
      "[1] \"first_click_count_auto_products\"\n",
      "[1] \"first_click_apply_count\"\n",
      "[1] \"first_click_count_credit_card_apply\"\n",
      "[1] \"first_click_count_personal_loan_apply\"\n",
      "[1] \"first_click_count_mortgage_apply\"\n",
      "[1] \"first_click_count_credit_repair_apply\"\n",
      "[1] \"first_click_count_banking_apply\"\n",
      "[1] \"first_click_count_auto_products_apply\"\n",
      "[1] \"first_login_platform\"\n"
     ]
    }
   ],
   "source": [
    "for (x in (dat_first %>% select(-user_id, -first_session_id, -first_session_length) %>% colnames)){\n",
    "    print(x)\n",
    "}"
   ]
  },
  {
   "cell_type": "code",
   "execution_count": 29,
   "metadata": {},
   "outputs": [
    {
     "data": {
      "text/html": [
       "0.129541942449755"
      ],
      "text/latex": [
       "0.129541942449755"
      ],
      "text/markdown": [
       "0.129541942449755"
      ],
      "text/plain": [
       "[1] 0.1295419"
      ]
     },
     "metadata": {},
     "output_type": "display_data"
    }
   ],
   "source": [
    "cor(dat$first_click_count_credit_card, dat$click_count_credit_card)"
   ]
  }
 ],
 "metadata": {
  "kernelspec": {
   "display_name": "R",
   "language": "R",
   "name": "ir"
  },
  "language_info": {
   "codemirror_mode": "r",
   "file_extension": ".r",
   "mimetype": "text/x-r-source",
   "name": "R",
   "pygments_lexer": "r",
   "version": "3.5.1"
  }
 },
 "nbformat": 4,
 "nbformat_minor": 2
}
