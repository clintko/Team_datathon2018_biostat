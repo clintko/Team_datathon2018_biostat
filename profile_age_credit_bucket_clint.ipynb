{
 "cells": [
  {
   "cell_type": "markdown",
   "metadata": {},
   "source": [
    "# Set environment"
   ]
  },
  {
   "cell_type": "code",
   "execution_count": 1,
   "metadata": {},
   "outputs": [
    {
     "name": "stderr",
     "output_type": "stream",
     "text": [
      "── Attaching packages ─────────────────────────────────────── tidyverse 1.2.1 ──\n",
      "✔ ggplot2 3.0.0     ✔ purrr   0.2.5\n",
      "✔ tibble  1.4.2     ✔ dplyr   0.7.6\n",
      "✔ tidyr   0.8.1     ✔ stringr 1.3.1\n",
      "✔ readr   1.1.1     ✔ forcats 0.3.0\n",
      "── Conflicts ────────────────────────────────────────── tidyverse_conflicts() ──\n",
      "✖ dplyr::filter() masks stats::filter()\n",
      "✖ dplyr::lag()    masks stats::lag()\n"
     ]
    }
   ],
   "source": [
    "library(tidyverse)"
   ]
  },
  {
   "cell_type": "code",
   "execution_count": 2,
   "metadata": {},
   "outputs": [
    {
     "data": {
      "text/html": [
       "<ol class=list-inline>\n",
       "\t<li>'engage_first_apply.csv'</li>\n",
       "\t<li>'engage_overall_apply_sum.csv'</li>\n",
       "\t<li>'engage_overall_apply.csv'</li>\n",
       "\t<li>'first_session.csv'</li>\n",
       "\t<li>'profile_with_credit_age.csv'</li>\n",
       "\t<li>'user_engagement.csv'</li>\n",
       "\t<li>'user_profile.csv'</li>\n",
       "</ol>\n"
      ],
      "text/latex": [
       "\\begin{enumerate*}\n",
       "\\item 'engage\\_first\\_apply.csv'\n",
       "\\item 'engage\\_overall\\_apply\\_sum.csv'\n",
       "\\item 'engage\\_overall\\_apply.csv'\n",
       "\\item 'first\\_session.csv'\n",
       "\\item 'profile\\_with\\_credit\\_age.csv'\n",
       "\\item 'user\\_engagement.csv'\n",
       "\\item 'user\\_profile.csv'\n",
       "\\end{enumerate*}\n"
      ],
      "text/markdown": [
       "1. 'engage_first_apply.csv'\n",
       "2. 'engage_overall_apply_sum.csv'\n",
       "3. 'engage_overall_apply.csv'\n",
       "4. 'first_session.csv'\n",
       "5. 'profile_with_credit_age.csv'\n",
       "6. 'user_engagement.csv'\n",
       "7. 'user_profile.csv'\n",
       "\n",
       "\n"
      ],
      "text/plain": [
       "[1] \"engage_first_apply.csv\"       \"engage_overall_apply_sum.csv\"\n",
       "[3] \"engage_overall_apply.csv\"     \"first_session.csv\"           \n",
       "[5] \"profile_with_credit_age.csv\"  \"user_engagement.csv\"         \n",
       "[7] \"user_profile.csv\"            "
      ]
     },
     "metadata": {},
     "output_type": "display_data"
    }
   ],
   "source": [
    "dir(\"/home/scratch/dataset/\")"
   ]
  },
  {
   "cell_type": "markdown",
   "metadata": {},
   "source": [
    "# Import data"
   ]
  },
  {
   "cell_type": "code",
   "execution_count": 3,
   "metadata": {},
   "outputs": [
    {
     "name": "stderr",
     "output_type": "stream",
     "text": [
      "Parsed with column specification:\n",
      "cols(\n",
      "  .default = col_integer(),\n",
      "  user_id = col_character(),\n",
      "  user_signup_timestamp = col_datetime(format = \"\"),\n",
      "  state = col_character(),\n",
      "  is_homeowner = col_character(),\n",
      "  gender = col_character(),\n",
      "  tradelines_avg_days_since_opened = col_double(),\n",
      "  tradelines_max_days_since_opened = col_double(),\n",
      "  tradelines_min_days_since_opened = col_double(),\n",
      "  total_tradelines_amount_past_due = col_double(),\n",
      "  total_open_cc_amount_past_due = col_double(),\n",
      "  total_cc_open_balance = col_double(),\n",
      "  total_tradelines_open_balance = col_double(),\n",
      "  max_cc_limit = col_double(),\n",
      "  max_cc_utilization_ratio = col_double(),\n",
      "  avg_cc_utilization_ratio = col_double(),\n",
      "  total_mortgage_loans_amount = col_double(),\n",
      "  total_mortgage_loans_balance = col_double(),\n",
      "  total_auto_loans_balance = col_double(),\n",
      "  total_student_loans_balance = col_double(),\n",
      "  recent_bankruptcy_date = col_datetime(format = \"\")\n",
      "  # ... with 2 more columns\n",
      ")\n",
      "See spec(...) for full column specifications.\n",
      "Warning message in rbind(names(probs), probs_f):\n",
      "“number of columns of result is not a multiple of vector length (arg 2)”Warning message:\n",
      "“1 parsing failure.\n",
      "row # A tibble: 1 x 5 col      row col     expected             actual file                               expected    <int> <chr>   <chr>                <chr>  <chr>                              actual 1 165123 zipcode no trailing charact… -4901  '/home/scratch/dataset/user_profi… file # A tibble: 1 x 5\n",
      "”"
     ]
    },
    {
     "data": {
      "text/html": [
       "<table>\n",
       "<thead><tr><th scope=col>Unnamed: 0</th><th scope=col>user_id</th><th scope=col>user_signup_timestamp</th><th scope=col>state</th><th scope=col>zipcode</th><th scope=col>is_homeowner</th><th scope=col>gender</th><th scope=col>tradelines_avg_days_since_opened</th><th scope=col>tradelines_max_days_since_opened</th><th scope=col>tradelines_min_days_since_opened</th><th scope=col>⋯</th><th scope=col>total_mortgage_loans_balance</th><th scope=col>total_auto_loans_balance</th><th scope=col>total_student_loans_balance</th><th scope=col>count_inquiries_3_months</th><th scope=col>count_inquiries_6_months</th><th scope=col>count_inquiries_12_months</th><th scope=col>recent_bankruptcy_date</th><th scope=col>count_bankruptcy</th><th scope=col>age_bucket</th><th scope=col>credit_score_bucket</th></tr></thead>\n",
       "<tbody>\n",
       "\t<tr><td>0                                       </td><td>50991631a5e7fafd8b5856fc15e3d1a3af5dcf98</td><td>2018-07-25 21:06:12                     </td><td>AR                                      </td><td>72762                                   </td><td>True                                    </td><td>Female                                  </td><td>2385.16                                 </td><td>7446                                    </td><td>481                                     </td><td>⋯                                       </td><td> 26049                                  </td><td>    0                                   </td><td>    0                                   </td><td>0                                       </td><td>0                                       </td><td> 0                                      </td><td>NA                                      </td><td>0                                       </td><td>(45.0, 50.0]                            </td><td>(630.0, 635.0]                          </td></tr>\n",
       "\t<tr><td>1                                       </td><td>18db173b8b0fb250985a4db2f3f8593ee9658707</td><td>2018-07-01 22:01:56                     </td><td>NE                                      </td><td>68111                                   </td><td>False                                   </td><td>NA                                      </td><td> 909.25                                 </td><td>1780                                    </td><td>152                                     </td><td>⋯                                       </td><td>     0                                  </td><td>12992                                   </td><td>    0                                   </td><td>0                                       </td><td>0                                       </td><td> 1                                      </td><td>NA                                      </td><td>0                                       </td><td>(50.0, 55.0]                            </td><td>(575.0, 580.0]                          </td></tr>\n",
       "\t<tr><td>2                                       </td><td>cabee62f0c4f26bb088f4a48d9ca5efa3a4f96e3</td><td>2018-07-02 08:47:21                     </td><td>AL                                      </td><td>36078                                   </td><td>False                                   </td><td>Male                                    </td><td>1544.00                                 </td><td>3975                                    </td><td>251                                     </td><td>⋯                                       </td><td> 86987                                  </td><td>    0                                   </td><td>    0                                   </td><td>0                                       </td><td>0                                       </td><td> 1                                      </td><td>NA                                      </td><td>0                                       </td><td>(50.0, 55.0]                            </td><td>(685.0, 690.0]                          </td></tr>\n",
       "\t<tr><td>3                                       </td><td>bb34f48b56a57e834c5c612b835d5a691f7357e8</td><td>2018-07-02 02:07:53                     </td><td>MT                                      </td><td>59923                                   </td><td>True                                    </td><td>Unisex                                  </td><td> 831.60                                 </td><td>2573                                    </td><td> 40                                     </td><td>⋯                                       </td><td>148912                                  </td><td>46046                                   </td><td>    0                                   </td><td>3                                       </td><td>3                                       </td><td>12                                      </td><td>NA                                      </td><td>0                                       </td><td>(50.0, 55.0]                            </td><td>(625.0, 630.0]                          </td></tr>\n",
       "\t<tr><td>4                                       </td><td>6da929725c76c01aa151d97060df2e6bd051e31e</td><td>2018-07-03 17:36:42                     </td><td>PA                                      </td><td>19040                                   </td><td>False                                   </td><td>Female                                  </td><td>1226.60                                 </td><td>2510                                    </td><td>186                                     </td><td>⋯                                       </td><td>     0                                  </td><td>16262                                   </td><td>24134                                   </td><td>0                                       </td><td>0                                       </td><td> 3                                      </td><td>NA                                      </td><td>0                                       </td><td>(20.0, 25.0]                            </td><td>(630.0, 635.0]                          </td></tr>\n",
       "\t<tr><td>5                                       </td><td>e8a6717452a88ec8d699c0a4181637c67d247e84</td><td>2018-07-02 16:11:42                     </td><td>NC                                      </td><td>28138                                   </td><td>False                                   </td><td>Female                                  </td><td> 546.28                                 </td><td>1291                                    </td><td> 68                                     </td><td>⋯                                       </td><td>     0                                  </td><td>28311                                   </td><td>    0                                   </td><td>0                                       </td><td>0                                       </td><td> 2                                      </td><td>NA                                      </td><td>0                                       </td><td>(35.0, 40.0]                            </td><td>(670.0, 675.0]                          </td></tr>\n",
       "</tbody>\n",
       "</table>\n"
      ],
      "text/latex": [
       "\\begin{tabular}{r|lllllllllllllllllllllllllllllllllllllll}\n",
       " Unnamed: 0 & user\\_id & user\\_signup\\_timestamp & state & zipcode & is\\_homeowner & gender & tradelines\\_avg\\_days\\_since\\_opened & tradelines\\_max\\_days\\_since\\_opened & tradelines\\_min\\_days\\_since\\_opened & ⋯ & total\\_mortgage\\_loans\\_balance & total\\_auto\\_loans\\_balance & total\\_student\\_loans\\_balance & count\\_inquiries\\_3\\_months & count\\_inquiries\\_6\\_months & count\\_inquiries\\_12\\_months & recent\\_bankruptcy\\_date & count\\_bankruptcy & age\\_bucket & credit\\_score\\_bucket\\\\\n",
       "\\hline\n",
       "\t 0                                        & 50991631a5e7fafd8b5856fc15e3d1a3af5dcf98 & 2018-07-25 21:06:12                      & AR                                       & 72762                                    & True                                     & Female                                   & 2385.16                                  & 7446                                     & 481                                      & ⋯                                        &  26049                                   &     0                                    &     0                                    & 0                                        & 0                                        &  0                                       & NA                                       & 0                                        & (45.0, 50.0{]}                           & (630.0, 635.0{]}                        \\\\\n",
       "\t 1                                        & 18db173b8b0fb250985a4db2f3f8593ee9658707 & 2018-07-01 22:01:56                      & NE                                       & 68111                                    & False                                    & NA                                       &  909.25                                  & 1780                                     & 152                                      & ⋯                                        &      0                                   & 12992                                    &     0                                    & 0                                        & 0                                        &  1                                       & NA                                       & 0                                        & (50.0, 55.0{]}                           & (575.0, 580.0{]}                        \\\\\n",
       "\t 2                                        & cabee62f0c4f26bb088f4a48d9ca5efa3a4f96e3 & 2018-07-02 08:47:21                      & AL                                       & 36078                                    & False                                    & Male                                     & 1544.00                                  & 3975                                     & 251                                      & ⋯                                        &  86987                                   &     0                                    &     0                                    & 0                                        & 0                                        &  1                                       & NA                                       & 0                                        & (50.0, 55.0{]}                           & (685.0, 690.0{]}                        \\\\\n",
       "\t 3                                        & bb34f48b56a57e834c5c612b835d5a691f7357e8 & 2018-07-02 02:07:53                      & MT                                       & 59923                                    & True                                     & Unisex                                   &  831.60                                  & 2573                                     &  40                                      & ⋯                                        & 148912                                   & 46046                                    &     0                                    & 3                                        & 3                                        & 12                                       & NA                                       & 0                                        & (50.0, 55.0{]}                           & (625.0, 630.0{]}                        \\\\\n",
       "\t 4                                        & 6da929725c76c01aa151d97060df2e6bd051e31e & 2018-07-03 17:36:42                      & PA                                       & 19040                                    & False                                    & Female                                   & 1226.60                                  & 2510                                     & 186                                      & ⋯                                        &      0                                   & 16262                                    & 24134                                    & 0                                        & 0                                        &  3                                       & NA                                       & 0                                        & (20.0, 25.0{]}                           & (630.0, 635.0{]}                        \\\\\n",
       "\t 5                                        & e8a6717452a88ec8d699c0a4181637c67d247e84 & 2018-07-02 16:11:42                      & NC                                       & 28138                                    & False                                    & Female                                   &  546.28                                  & 1291                                     &  68                                      & ⋯                                        &      0                                   & 28311                                    &     0                                    & 0                                        & 0                                        &  2                                       & NA                                       & 0                                        & (35.0, 40.0{]}                           & (670.0, 675.0{]}                        \\\\\n",
       "\\end{tabular}\n"
      ],
      "text/markdown": [
       "\n",
       "Unnamed: 0 | user_id | user_signup_timestamp | state | zipcode | is_homeowner | gender | tradelines_avg_days_since_opened | tradelines_max_days_since_opened | tradelines_min_days_since_opened | ⋯ | total_mortgage_loans_balance | total_auto_loans_balance | total_student_loans_balance | count_inquiries_3_months | count_inquiries_6_months | count_inquiries_12_months | recent_bankruptcy_date | count_bankruptcy | age_bucket | credit_score_bucket | \n",
       "|---|---|---|---|---|---|\n",
       "| 0                                        | 50991631a5e7fafd8b5856fc15e3d1a3af5dcf98 | 2018-07-25 21:06:12                      | AR                                       | 72762                                    | True                                     | Female                                   | 2385.16                                  | 7446                                     | 481                                      | ⋯                                        |  26049                                   |     0                                    |     0                                    | 0                                        | 0                                        |  0                                       | NA                                       | 0                                        | (45.0, 50.0]                             | (630.0, 635.0]                           | \n",
       "| 1                                        | 18db173b8b0fb250985a4db2f3f8593ee9658707 | 2018-07-01 22:01:56                      | NE                                       | 68111                                    | False                                    | NA                                       |  909.25                                  | 1780                                     | 152                                      | ⋯                                        |      0                                   | 12992                                    |     0                                    | 0                                        | 0                                        |  1                                       | NA                                       | 0                                        | (50.0, 55.0]                             | (575.0, 580.0]                           | \n",
       "| 2                                        | cabee62f0c4f26bb088f4a48d9ca5efa3a4f96e3 | 2018-07-02 08:47:21                      | AL                                       | 36078                                    | False                                    | Male                                     | 1544.00                                  | 3975                                     | 251                                      | ⋯                                        |  86987                                   |     0                                    |     0                                    | 0                                        | 0                                        |  1                                       | NA                                       | 0                                        | (50.0, 55.0]                             | (685.0, 690.0]                           | \n",
       "| 3                                        | bb34f48b56a57e834c5c612b835d5a691f7357e8 | 2018-07-02 02:07:53                      | MT                                       | 59923                                    | True                                     | Unisex                                   |  831.60                                  | 2573                                     |  40                                      | ⋯                                        | 148912                                   | 46046                                    |     0                                    | 3                                        | 3                                        | 12                                       | NA                                       | 0                                        | (50.0, 55.0]                             | (625.0, 630.0]                           | \n",
       "| 4                                        | 6da929725c76c01aa151d97060df2e6bd051e31e | 2018-07-03 17:36:42                      | PA                                       | 19040                                    | False                                    | Female                                   | 1226.60                                  | 2510                                     | 186                                      | ⋯                                        |      0                                   | 16262                                    | 24134                                    | 0                                        | 0                                        |  3                                       | NA                                       | 0                                        | (20.0, 25.0]                             | (630.0, 635.0]                           | \n",
       "| 5                                        | e8a6717452a88ec8d699c0a4181637c67d247e84 | 2018-07-02 16:11:42                      | NC                                       | 28138                                    | False                                    | Female                                   |  546.28                                  | 1291                                     |  68                                      | ⋯                                        |      0                                   | 28311                                    |     0                                    | 0                                        | 0                                        |  2                                       | NA                                       | 0                                        | (35.0, 40.0]                             | (670.0, 675.0]                           | \n",
       "\n",
       "\n"
      ],
      "text/plain": [
       "  Unnamed: 0 user_id                                  user_signup_timestamp\n",
       "1 0          50991631a5e7fafd8b5856fc15e3d1a3af5dcf98 2018-07-25 21:06:12  \n",
       "2 1          18db173b8b0fb250985a4db2f3f8593ee9658707 2018-07-01 22:01:56  \n",
       "3 2          cabee62f0c4f26bb088f4a48d9ca5efa3a4f96e3 2018-07-02 08:47:21  \n",
       "4 3          bb34f48b56a57e834c5c612b835d5a691f7357e8 2018-07-02 02:07:53  \n",
       "5 4          6da929725c76c01aa151d97060df2e6bd051e31e 2018-07-03 17:36:42  \n",
       "6 5          e8a6717452a88ec8d699c0a4181637c67d247e84 2018-07-02 16:11:42  \n",
       "  state zipcode is_homeowner gender tradelines_avg_days_since_opened\n",
       "1 AR    72762   True         Female 2385.16                         \n",
       "2 NE    68111   False        NA      909.25                         \n",
       "3 AL    36078   False        Male   1544.00                         \n",
       "4 MT    59923   True         Unisex  831.60                         \n",
       "5 PA    19040   False        Female 1226.60                         \n",
       "6 NC    28138   False        Female  546.28                         \n",
       "  tradelines_max_days_since_opened tradelines_min_days_since_opened ⋯\n",
       "1 7446                             481                              ⋯\n",
       "2 1780                             152                              ⋯\n",
       "3 3975                             251                              ⋯\n",
       "4 2573                              40                              ⋯\n",
       "5 2510                             186                              ⋯\n",
       "6 1291                              68                              ⋯\n",
       "  total_mortgage_loans_balance total_auto_loans_balance\n",
       "1  26049                           0                   \n",
       "2      0                       12992                   \n",
       "3  86987                           0                   \n",
       "4 148912                       46046                   \n",
       "5      0                       16262                   \n",
       "6      0                       28311                   \n",
       "  total_student_loans_balance count_inquiries_3_months count_inquiries_6_months\n",
       "1     0                       0                        0                       \n",
       "2     0                       0                        0                       \n",
       "3     0                       0                        0                       \n",
       "4     0                       3                        3                       \n",
       "5 24134                       0                        0                       \n",
       "6     0                       0                        0                       \n",
       "  count_inquiries_12_months recent_bankruptcy_date count_bankruptcy\n",
       "1  0                        <NA>                   0               \n",
       "2  1                        <NA>                   0               \n",
       "3  1                        <NA>                   0               \n",
       "4 12                        <NA>                   0               \n",
       "5  3                        <NA>                   0               \n",
       "6  2                        <NA>                   0               \n",
       "  age_bucket   credit_score_bucket\n",
       "1 (45.0, 50.0] (630.0, 635.0]     \n",
       "2 (50.0, 55.0] (575.0, 580.0]     \n",
       "3 (50.0, 55.0] (685.0, 690.0]     \n",
       "4 (50.0, 55.0] (625.0, 630.0]     \n",
       "5 (20.0, 25.0] (630.0, 635.0]     \n",
       "6 (35.0, 40.0] (670.0, 675.0]     "
      ]
     },
     "metadata": {},
     "output_type": "display_data"
    }
   ],
   "source": [
    "#profile = read_csv(\"/home/scratch/dataset/user_profile.csv\", n_max = 1000)\n",
    "profile = read_csv(\"/home/scratch/dataset/user_profile.csv\")\n",
    "head(profile)"
   ]
  },
  {
   "cell_type": "code",
   "execution_count": 4,
   "metadata": {},
   "outputs": [
    {
     "data": {
      "text/html": [
       "<ol class=list-inline>\n",
       "\t<li>'Unnamed: 0'</li>\n",
       "\t<li>'user_id'</li>\n",
       "\t<li>'user_signup_timestamp'</li>\n",
       "\t<li>'state'</li>\n",
       "\t<li>'zipcode'</li>\n",
       "\t<li>'is_homeowner'</li>\n",
       "\t<li>'gender'</li>\n",
       "\t<li>'tradelines_avg_days_since_opened'</li>\n",
       "\t<li>'tradelines_max_days_since_opened'</li>\n",
       "\t<li>'tradelines_min_days_since_opened'</li>\n",
       "\t<li>'count_tradelines_closed_accounts'</li>\n",
       "\t<li>'count_total_tradelines_opened_24_months'</li>\n",
       "\t<li>'count_tradelines_cc_opened_24_months'</li>\n",
       "\t<li>'count_tradelines_condition_derogatory'</li>\n",
       "\t<li>'count_open_installment_accounts_24_months'</li>\n",
       "\t<li>'count_tradelines_open_collection_accounts'</li>\n",
       "\t<li>'count_tradelines_open_mortgages'</li>\n",
       "\t<li>'count_tradelines_open_student_loans'</li>\n",
       "\t<li>'count_tradelines_opened_accounts'</li>\n",
       "\t<li>'count_tradelines_open_secured_loans'</li>\n",
       "\t<li>'count_tradelines_open_unsecured_loans'</li>\n",
       "\t<li>'total_tradelines_amount_past_due'</li>\n",
       "\t<li>'total_open_cc_amount_past_due'</li>\n",
       "\t<li>'total_cc_open_balance'</li>\n",
       "\t<li>'total_tradelines_open_balance'</li>\n",
       "\t<li>'max_cc_limit'</li>\n",
       "\t<li>'max_cc_utilization_ratio'</li>\n",
       "\t<li>'avg_cc_utilization_ratio'</li>\n",
       "\t<li>'total_mortgage_loans_amount'</li>\n",
       "\t<li>'total_mortgage_loans_balance'</li>\n",
       "\t<li>'total_auto_loans_balance'</li>\n",
       "\t<li>'total_student_loans_balance'</li>\n",
       "\t<li>'count_inquiries_3_months'</li>\n",
       "\t<li>'count_inquiries_6_months'</li>\n",
       "\t<li>'count_inquiries_12_months'</li>\n",
       "\t<li>'recent_bankruptcy_date'</li>\n",
       "\t<li>'count_bankruptcy'</li>\n",
       "\t<li>'age_bucket'</li>\n",
       "\t<li>'credit_score_bucket'</li>\n",
       "</ol>\n"
      ],
      "text/latex": [
       "\\begin{enumerate*}\n",
       "\\item 'Unnamed: 0'\n",
       "\\item 'user\\_id'\n",
       "\\item 'user\\_signup\\_timestamp'\n",
       "\\item 'state'\n",
       "\\item 'zipcode'\n",
       "\\item 'is\\_homeowner'\n",
       "\\item 'gender'\n",
       "\\item 'tradelines\\_avg\\_days\\_since\\_opened'\n",
       "\\item 'tradelines\\_max\\_days\\_since\\_opened'\n",
       "\\item 'tradelines\\_min\\_days\\_since\\_opened'\n",
       "\\item 'count\\_tradelines\\_closed\\_accounts'\n",
       "\\item 'count\\_total\\_tradelines\\_opened\\_24\\_months'\n",
       "\\item 'count\\_tradelines\\_cc\\_opened\\_24\\_months'\n",
       "\\item 'count\\_tradelines\\_condition\\_derogatory'\n",
       "\\item 'count\\_open\\_installment\\_accounts\\_24\\_months'\n",
       "\\item 'count\\_tradelines\\_open\\_collection\\_accounts'\n",
       "\\item 'count\\_tradelines\\_open\\_mortgages'\n",
       "\\item 'count\\_tradelines\\_open\\_student\\_loans'\n",
       "\\item 'count\\_tradelines\\_opened\\_accounts'\n",
       "\\item 'count\\_tradelines\\_open\\_secured\\_loans'\n",
       "\\item 'count\\_tradelines\\_open\\_unsecured\\_loans'\n",
       "\\item 'total\\_tradelines\\_amount\\_past\\_due'\n",
       "\\item 'total\\_open\\_cc\\_amount\\_past\\_due'\n",
       "\\item 'total\\_cc\\_open\\_balance'\n",
       "\\item 'total\\_tradelines\\_open\\_balance'\n",
       "\\item 'max\\_cc\\_limit'\n",
       "\\item 'max\\_cc\\_utilization\\_ratio'\n",
       "\\item 'avg\\_cc\\_utilization\\_ratio'\n",
       "\\item 'total\\_mortgage\\_loans\\_amount'\n",
       "\\item 'total\\_mortgage\\_loans\\_balance'\n",
       "\\item 'total\\_auto\\_loans\\_balance'\n",
       "\\item 'total\\_student\\_loans\\_balance'\n",
       "\\item 'count\\_inquiries\\_3\\_months'\n",
       "\\item 'count\\_inquiries\\_6\\_months'\n",
       "\\item 'count\\_inquiries\\_12\\_months'\n",
       "\\item 'recent\\_bankruptcy\\_date'\n",
       "\\item 'count\\_bankruptcy'\n",
       "\\item 'age\\_bucket'\n",
       "\\item 'credit\\_score\\_bucket'\n",
       "\\end{enumerate*}\n"
      ],
      "text/markdown": [
       "1. 'Unnamed: 0'\n",
       "2. 'user_id'\n",
       "3. 'user_signup_timestamp'\n",
       "4. 'state'\n",
       "5. 'zipcode'\n",
       "6. 'is_homeowner'\n",
       "7. 'gender'\n",
       "8. 'tradelines_avg_days_since_opened'\n",
       "9. 'tradelines_max_days_since_opened'\n",
       "10. 'tradelines_min_days_since_opened'\n",
       "11. 'count_tradelines_closed_accounts'\n",
       "12. 'count_total_tradelines_opened_24_months'\n",
       "13. 'count_tradelines_cc_opened_24_months'\n",
       "14. 'count_tradelines_condition_derogatory'\n",
       "15. 'count_open_installment_accounts_24_months'\n",
       "16. 'count_tradelines_open_collection_accounts'\n",
       "17. 'count_tradelines_open_mortgages'\n",
       "18. 'count_tradelines_open_student_loans'\n",
       "19. 'count_tradelines_opened_accounts'\n",
       "20. 'count_tradelines_open_secured_loans'\n",
       "21. 'count_tradelines_open_unsecured_loans'\n",
       "22. 'total_tradelines_amount_past_due'\n",
       "23. 'total_open_cc_amount_past_due'\n",
       "24. 'total_cc_open_balance'\n",
       "25. 'total_tradelines_open_balance'\n",
       "26. 'max_cc_limit'\n",
       "27. 'max_cc_utilization_ratio'\n",
       "28. 'avg_cc_utilization_ratio'\n",
       "29. 'total_mortgage_loans_amount'\n",
       "30. 'total_mortgage_loans_balance'\n",
       "31. 'total_auto_loans_balance'\n",
       "32. 'total_student_loans_balance'\n",
       "33. 'count_inquiries_3_months'\n",
       "34. 'count_inquiries_6_months'\n",
       "35. 'count_inquiries_12_months'\n",
       "36. 'recent_bankruptcy_date'\n",
       "37. 'count_bankruptcy'\n",
       "38. 'age_bucket'\n",
       "39. 'credit_score_bucket'\n",
       "\n",
       "\n"
      ],
      "text/plain": [
       " [1] \"Unnamed: 0\"                               \n",
       " [2] \"user_id\"                                  \n",
       " [3] \"user_signup_timestamp\"                    \n",
       " [4] \"state\"                                    \n",
       " [5] \"zipcode\"                                  \n",
       " [6] \"is_homeowner\"                             \n",
       " [7] \"gender\"                                   \n",
       " [8] \"tradelines_avg_days_since_opened\"         \n",
       " [9] \"tradelines_max_days_since_opened\"         \n",
       "[10] \"tradelines_min_days_since_opened\"         \n",
       "[11] \"count_tradelines_closed_accounts\"         \n",
       "[12] \"count_total_tradelines_opened_24_months\"  \n",
       "[13] \"count_tradelines_cc_opened_24_months\"     \n",
       "[14] \"count_tradelines_condition_derogatory\"    \n",
       "[15] \"count_open_installment_accounts_24_months\"\n",
       "[16] \"count_tradelines_open_collection_accounts\"\n",
       "[17] \"count_tradelines_open_mortgages\"          \n",
       "[18] \"count_tradelines_open_student_loans\"      \n",
       "[19] \"count_tradelines_opened_accounts\"         \n",
       "[20] \"count_tradelines_open_secured_loans\"      \n",
       "[21] \"count_tradelines_open_unsecured_loans\"    \n",
       "[22] \"total_tradelines_amount_past_due\"         \n",
       "[23] \"total_open_cc_amount_past_due\"            \n",
       "[24] \"total_cc_open_balance\"                    \n",
       "[25] \"total_tradelines_open_balance\"            \n",
       "[26] \"max_cc_limit\"                             \n",
       "[27] \"max_cc_utilization_ratio\"                 \n",
       "[28] \"avg_cc_utilization_ratio\"                 \n",
       "[29] \"total_mortgage_loans_amount\"              \n",
       "[30] \"total_mortgage_loans_balance\"             \n",
       "[31] \"total_auto_loans_balance\"                 \n",
       "[32] \"total_student_loans_balance\"              \n",
       "[33] \"count_inquiries_3_months\"                 \n",
       "[34] \"count_inquiries_6_months\"                 \n",
       "[35] \"count_inquiries_12_months\"                \n",
       "[36] \"recent_bankruptcy_date\"                   \n",
       "[37] \"count_bankruptcy\"                         \n",
       "[38] \"age_bucket\"                               \n",
       "[39] \"credit_score_bucket\"                      "
      ]
     },
     "metadata": {},
     "output_type": "display_data"
    }
   ],
   "source": [
    "colnames(profile)"
   ]
  },
  {
   "cell_type": "markdown",
   "metadata": {},
   "source": [
    "# Process credit score bucket and age\n",
    "https://www.creditsesame.com/free-credit-score/\n",
    "- 300-640\n",
    "- 640-680\n",
    "- 680-720\n",
    "- 720-850"
   ]
  },
  {
   "cell_type": "code",
   "execution_count": 5,
   "metadata": {},
   "outputs": [],
   "source": [
    "trim <- function (x) gsub(\"\\\\(|\\\\[|\\\\)|\\\\]\", \"\", x)\n",
    "dat = profile %>%\n",
    "    mutate(credit_score_bucket2 = trim(credit_score_bucket)) %>% \n",
    "    separate(col = credit_score_bucket2, \n",
    "             into = c(\"credit_score_bound_lower\", \"credit_score_bound_upper\"), \n",
    "             sep = \",\") %>%\n",
    "    mutate(credit_score_bound_lower = as.numeric(credit_score_bound_lower), \n",
    "           credit_score_bound_upper  = as.numeric(credit_score_bound_upper)) %>%\n",
    "    mutate(credit_score_mean = (credit_score_bound_lower + credit_score_bound_upper) / 2)\n",
    "\n",
    "dat$credit_bucket = cut(\n",
    "    dat$credit_score_mean, \n",
    "    breaks = c(300, 640, 680, 720, 850), \n",
    "    labels = c(\"poor\",\"fair\",\"good\", \"Excellent\"))\n",
    "\n",
    "dat = dat %>% \n",
    "    mutate(age_bucket2 = trim(age_bucket)) %>% \n",
    "    separate(col = age_bucket2, \n",
    "             into = c(\"age_bucket_bound_lower\", \"age_bucket_bound_upper\"), \n",
    "             sep = \",\") %>%\n",
    "    mutate(age_bucket_bound_lower = as.numeric(age_bucket_bound_lower), \n",
    "           age_bucket_bound_upper = as.numeric(age_bucket_bound_upper)) %>%\n",
    "    mutate(age = (age_bucket_bound_lower + age_bucket_bound_upper) / 2)"
   ]
  },
  {
   "cell_type": "code",
   "execution_count": 6,
   "metadata": {},
   "outputs": [
    {
     "data": {
      "text/html": [
       "<table>\n",
       "<thead><tr><th scope=col>Unnamed: 0</th><th scope=col>user_id</th><th scope=col>user_signup_timestamp</th><th scope=col>state</th><th scope=col>zipcode</th><th scope=col>is_homeowner</th><th scope=col>gender</th><th scope=col>tradelines_avg_days_since_opened</th><th scope=col>tradelines_max_days_since_opened</th><th scope=col>tradelines_min_days_since_opened</th><th scope=col>⋯</th><th scope=col>count_bankruptcy</th><th scope=col>age_bucket</th><th scope=col>credit_score_bucket</th><th scope=col>credit_score_bound_lower</th><th scope=col>credit_score_bound_upper</th><th scope=col>credit_score_mean</th><th scope=col>credit_bucket</th><th scope=col>age_bucket_bound_lower</th><th scope=col>age_bucket_bound_upper</th><th scope=col>age</th></tr></thead>\n",
       "<tbody>\n",
       "\t<tr><td>0                                       </td><td>50991631a5e7fafd8b5856fc15e3d1a3af5dcf98</td><td>2018-07-25 21:06:12                     </td><td>AR                                      </td><td>72762                                   </td><td>True                                    </td><td>Female                                  </td><td>2385.16                                 </td><td>7446                                    </td><td>481                                     </td><td>⋯                                       </td><td>0                                       </td><td>(45.0, 50.0]                            </td><td>(630.0, 635.0]                          </td><td>630                                     </td><td>635                                     </td><td>632.5                                   </td><td>poor                                    </td><td>45                                      </td><td>50                                      </td><td>47.5                                    </td></tr>\n",
       "\t<tr><td>1                                       </td><td>18db173b8b0fb250985a4db2f3f8593ee9658707</td><td>2018-07-01 22:01:56                     </td><td>NE                                      </td><td>68111                                   </td><td>False                                   </td><td>NA                                      </td><td> 909.25                                 </td><td>1780                                    </td><td>152                                     </td><td>⋯                                       </td><td>0                                       </td><td>(50.0, 55.0]                            </td><td>(575.0, 580.0]                          </td><td>575                                     </td><td>580                                     </td><td>577.5                                   </td><td>poor                                    </td><td>50                                      </td><td>55                                      </td><td>52.5                                    </td></tr>\n",
       "\t<tr><td>2                                       </td><td>cabee62f0c4f26bb088f4a48d9ca5efa3a4f96e3</td><td>2018-07-02 08:47:21                     </td><td>AL                                      </td><td>36078                                   </td><td>False                                   </td><td>Male                                    </td><td>1544.00                                 </td><td>3975                                    </td><td>251                                     </td><td>⋯                                       </td><td>0                                       </td><td>(50.0, 55.0]                            </td><td>(685.0, 690.0]                          </td><td>685                                     </td><td>690                                     </td><td>687.5                                   </td><td>good                                    </td><td>50                                      </td><td>55                                      </td><td>52.5                                    </td></tr>\n",
       "\t<tr><td>3                                       </td><td>bb34f48b56a57e834c5c612b835d5a691f7357e8</td><td>2018-07-02 02:07:53                     </td><td>MT                                      </td><td>59923                                   </td><td>True                                    </td><td>Unisex                                  </td><td> 831.60                                 </td><td>2573                                    </td><td> 40                                     </td><td>⋯                                       </td><td>0                                       </td><td>(50.0, 55.0]                            </td><td>(625.0, 630.0]                          </td><td>625                                     </td><td>630                                     </td><td>627.5                                   </td><td>poor                                    </td><td>50                                      </td><td>55                                      </td><td>52.5                                    </td></tr>\n",
       "\t<tr><td>4                                       </td><td>6da929725c76c01aa151d97060df2e6bd051e31e</td><td>2018-07-03 17:36:42                     </td><td>PA                                      </td><td>19040                                   </td><td>False                                   </td><td>Female                                  </td><td>1226.60                                 </td><td>2510                                    </td><td>186                                     </td><td>⋯                                       </td><td>0                                       </td><td>(20.0, 25.0]                            </td><td>(630.0, 635.0]                          </td><td>630                                     </td><td>635                                     </td><td>632.5                                   </td><td>poor                                    </td><td>20                                      </td><td>25                                      </td><td>22.5                                    </td></tr>\n",
       "\t<tr><td>5                                       </td><td>e8a6717452a88ec8d699c0a4181637c67d247e84</td><td>2018-07-02 16:11:42                     </td><td>NC                                      </td><td>28138                                   </td><td>False                                   </td><td>Female                                  </td><td> 546.28                                 </td><td>1291                                    </td><td> 68                                     </td><td>⋯                                       </td><td>0                                       </td><td>(35.0, 40.0]                            </td><td>(670.0, 675.0]                          </td><td>670                                     </td><td>675                                     </td><td>672.5                                   </td><td>fair                                    </td><td>35                                      </td><td>40                                      </td><td>37.5                                    </td></tr>\n",
       "</tbody>\n",
       "</table>\n"
      ],
      "text/latex": [
       "\\begin{tabular}{r|llllllllllllllllllllllllllllllllllllllllllllll}\n",
       " Unnamed: 0 & user\\_id & user\\_signup\\_timestamp & state & zipcode & is\\_homeowner & gender & tradelines\\_avg\\_days\\_since\\_opened & tradelines\\_max\\_days\\_since\\_opened & tradelines\\_min\\_days\\_since\\_opened & ⋯ & count\\_bankruptcy & age\\_bucket & credit\\_score\\_bucket & credit\\_score\\_bound\\_lower & credit\\_score\\_bound\\_upper & credit\\_score\\_mean & credit\\_bucket & age\\_bucket\\_bound\\_lower & age\\_bucket\\_bound\\_upper & age\\\\\n",
       "\\hline\n",
       "\t 0                                        & 50991631a5e7fafd8b5856fc15e3d1a3af5dcf98 & 2018-07-25 21:06:12                      & AR                                       & 72762                                    & True                                     & Female                                   & 2385.16                                  & 7446                                     & 481                                      & ⋯                                        & 0                                        & (45.0, 50.0{]}                           & (630.0, 635.0{]}                         & 630                                      & 635                                      & 632.5                                    & poor                                     & 45                                       & 50                                       & 47.5                                    \\\\\n",
       "\t 1                                        & 18db173b8b0fb250985a4db2f3f8593ee9658707 & 2018-07-01 22:01:56                      & NE                                       & 68111                                    & False                                    & NA                                       &  909.25                                  & 1780                                     & 152                                      & ⋯                                        & 0                                        & (50.0, 55.0{]}                           & (575.0, 580.0{]}                         & 575                                      & 580                                      & 577.5                                    & poor                                     & 50                                       & 55                                       & 52.5                                    \\\\\n",
       "\t 2                                        & cabee62f0c4f26bb088f4a48d9ca5efa3a4f96e3 & 2018-07-02 08:47:21                      & AL                                       & 36078                                    & False                                    & Male                                     & 1544.00                                  & 3975                                     & 251                                      & ⋯                                        & 0                                        & (50.0, 55.0{]}                           & (685.0, 690.0{]}                         & 685                                      & 690                                      & 687.5                                    & good                                     & 50                                       & 55                                       & 52.5                                    \\\\\n",
       "\t 3                                        & bb34f48b56a57e834c5c612b835d5a691f7357e8 & 2018-07-02 02:07:53                      & MT                                       & 59923                                    & True                                     & Unisex                                   &  831.60                                  & 2573                                     &  40                                      & ⋯                                        & 0                                        & (50.0, 55.0{]}                           & (625.0, 630.0{]}                         & 625                                      & 630                                      & 627.5                                    & poor                                     & 50                                       & 55                                       & 52.5                                    \\\\\n",
       "\t 4                                        & 6da929725c76c01aa151d97060df2e6bd051e31e & 2018-07-03 17:36:42                      & PA                                       & 19040                                    & False                                    & Female                                   & 1226.60                                  & 2510                                     & 186                                      & ⋯                                        & 0                                        & (20.0, 25.0{]}                           & (630.0, 635.0{]}                         & 630                                      & 635                                      & 632.5                                    & poor                                     & 20                                       & 25                                       & 22.5                                    \\\\\n",
       "\t 5                                        & e8a6717452a88ec8d699c0a4181637c67d247e84 & 2018-07-02 16:11:42                      & NC                                       & 28138                                    & False                                    & Female                                   &  546.28                                  & 1291                                     &  68                                      & ⋯                                        & 0                                        & (35.0, 40.0{]}                           & (670.0, 675.0{]}                         & 670                                      & 675                                      & 672.5                                    & fair                                     & 35                                       & 40                                       & 37.5                                    \\\\\n",
       "\\end{tabular}\n"
      ],
      "text/markdown": [
       "\n",
       "Unnamed: 0 | user_id | user_signup_timestamp | state | zipcode | is_homeowner | gender | tradelines_avg_days_since_opened | tradelines_max_days_since_opened | tradelines_min_days_since_opened | ⋯ | count_bankruptcy | age_bucket | credit_score_bucket | credit_score_bound_lower | credit_score_bound_upper | credit_score_mean | credit_bucket | age_bucket_bound_lower | age_bucket_bound_upper | age | \n",
       "|---|---|---|---|---|---|\n",
       "| 0                                        | 50991631a5e7fafd8b5856fc15e3d1a3af5dcf98 | 2018-07-25 21:06:12                      | AR                                       | 72762                                    | True                                     | Female                                   | 2385.16                                  | 7446                                     | 481                                      | ⋯                                        | 0                                        | (45.0, 50.0]                             | (630.0, 635.0]                           | 630                                      | 635                                      | 632.5                                    | poor                                     | 45                                       | 50                                       | 47.5                                     | \n",
       "| 1                                        | 18db173b8b0fb250985a4db2f3f8593ee9658707 | 2018-07-01 22:01:56                      | NE                                       | 68111                                    | False                                    | NA                                       |  909.25                                  | 1780                                     | 152                                      | ⋯                                        | 0                                        | (50.0, 55.0]                             | (575.0, 580.0]                           | 575                                      | 580                                      | 577.5                                    | poor                                     | 50                                       | 55                                       | 52.5                                     | \n",
       "| 2                                        | cabee62f0c4f26bb088f4a48d9ca5efa3a4f96e3 | 2018-07-02 08:47:21                      | AL                                       | 36078                                    | False                                    | Male                                     | 1544.00                                  | 3975                                     | 251                                      | ⋯                                        | 0                                        | (50.0, 55.0]                             | (685.0, 690.0]                           | 685                                      | 690                                      | 687.5                                    | good                                     | 50                                       | 55                                       | 52.5                                     | \n",
       "| 3                                        | bb34f48b56a57e834c5c612b835d5a691f7357e8 | 2018-07-02 02:07:53                      | MT                                       | 59923                                    | True                                     | Unisex                                   |  831.60                                  | 2573                                     |  40                                      | ⋯                                        | 0                                        | (50.0, 55.0]                             | (625.0, 630.0]                           | 625                                      | 630                                      | 627.5                                    | poor                                     | 50                                       | 55                                       | 52.5                                     | \n",
       "| 4                                        | 6da929725c76c01aa151d97060df2e6bd051e31e | 2018-07-03 17:36:42                      | PA                                       | 19040                                    | False                                    | Female                                   | 1226.60                                  | 2510                                     | 186                                      | ⋯                                        | 0                                        | (20.0, 25.0]                             | (630.0, 635.0]                           | 630                                      | 635                                      | 632.5                                    | poor                                     | 20                                       | 25                                       | 22.5                                     | \n",
       "| 5                                        | e8a6717452a88ec8d699c0a4181637c67d247e84 | 2018-07-02 16:11:42                      | NC                                       | 28138                                    | False                                    | Female                                   |  546.28                                  | 1291                                     |  68                                      | ⋯                                        | 0                                        | (35.0, 40.0]                             | (670.0, 675.0]                           | 670                                      | 675                                      | 672.5                                    | fair                                     | 35                                       | 40                                       | 37.5                                     | \n",
       "\n",
       "\n"
      ],
      "text/plain": [
       "  Unnamed: 0 user_id                                  user_signup_timestamp\n",
       "1 0          50991631a5e7fafd8b5856fc15e3d1a3af5dcf98 2018-07-25 21:06:12  \n",
       "2 1          18db173b8b0fb250985a4db2f3f8593ee9658707 2018-07-01 22:01:56  \n",
       "3 2          cabee62f0c4f26bb088f4a48d9ca5efa3a4f96e3 2018-07-02 08:47:21  \n",
       "4 3          bb34f48b56a57e834c5c612b835d5a691f7357e8 2018-07-02 02:07:53  \n",
       "5 4          6da929725c76c01aa151d97060df2e6bd051e31e 2018-07-03 17:36:42  \n",
       "6 5          e8a6717452a88ec8d699c0a4181637c67d247e84 2018-07-02 16:11:42  \n",
       "  state zipcode is_homeowner gender tradelines_avg_days_since_opened\n",
       "1 AR    72762   True         Female 2385.16                         \n",
       "2 NE    68111   False        NA      909.25                         \n",
       "3 AL    36078   False        Male   1544.00                         \n",
       "4 MT    59923   True         Unisex  831.60                         \n",
       "5 PA    19040   False        Female 1226.60                         \n",
       "6 NC    28138   False        Female  546.28                         \n",
       "  tradelines_max_days_since_opened tradelines_min_days_since_opened ⋯\n",
       "1 7446                             481                              ⋯\n",
       "2 1780                             152                              ⋯\n",
       "3 3975                             251                              ⋯\n",
       "4 2573                              40                              ⋯\n",
       "5 2510                             186                              ⋯\n",
       "6 1291                              68                              ⋯\n",
       "  count_bankruptcy age_bucket   credit_score_bucket credit_score_bound_lower\n",
       "1 0                (45.0, 50.0] (630.0, 635.0]      630                     \n",
       "2 0                (50.0, 55.0] (575.0, 580.0]      575                     \n",
       "3 0                (50.0, 55.0] (685.0, 690.0]      685                     \n",
       "4 0                (50.0, 55.0] (625.0, 630.0]      625                     \n",
       "5 0                (20.0, 25.0] (630.0, 635.0]      630                     \n",
       "6 0                (35.0, 40.0] (670.0, 675.0]      670                     \n",
       "  credit_score_bound_upper credit_score_mean credit_bucket\n",
       "1 635                      632.5             poor         \n",
       "2 580                      577.5             poor         \n",
       "3 690                      687.5             good         \n",
       "4 630                      627.5             poor         \n",
       "5 635                      632.5             poor         \n",
       "6 675                      672.5             fair         \n",
       "  age_bucket_bound_lower age_bucket_bound_upper age \n",
       "1 45                     50                     47.5\n",
       "2 50                     55                     52.5\n",
       "3 50                     55                     52.5\n",
       "4 50                     55                     52.5\n",
       "5 20                     25                     22.5\n",
       "6 35                     40                     37.5"
      ]
     },
     "metadata": {},
     "output_type": "display_data"
    }
   ],
   "source": [
    "head(dat)"
   ]
  },
  {
   "cell_type": "code",
   "execution_count": 8,
   "metadata": {},
   "outputs": [
    {
     "data": {
      "text/html": [
       "<table>\n",
       "<thead><tr><th scope=col>user_id</th><th scope=col>age_bucket</th><th scope=col>age_bucket_bound_lower</th><th scope=col>age_bucket_bound_upper</th><th scope=col>age</th><th scope=col>credit_score_bucket</th><th scope=col>credit_score_bound_lower</th><th scope=col>credit_score_bound_upper</th><th scope=col>credit_bucket</th></tr></thead>\n",
       "<tbody>\n",
       "\t<tr><td>50991631a5e7fafd8b5856fc15e3d1a3af5dcf98</td><td>(45.0, 50.0]                            </td><td>45                                      </td><td>50                                      </td><td>47.5                                    </td><td>(630.0, 635.0]                          </td><td>630                                     </td><td>635                                     </td><td>poor                                    </td></tr>\n",
       "\t<tr><td>18db173b8b0fb250985a4db2f3f8593ee9658707</td><td>(50.0, 55.0]                            </td><td>50                                      </td><td>55                                      </td><td>52.5                                    </td><td>(575.0, 580.0]                          </td><td>575                                     </td><td>580                                     </td><td>poor                                    </td></tr>\n",
       "\t<tr><td>cabee62f0c4f26bb088f4a48d9ca5efa3a4f96e3</td><td>(50.0, 55.0]                            </td><td>50                                      </td><td>55                                      </td><td>52.5                                    </td><td>(685.0, 690.0]                          </td><td>685                                     </td><td>690                                     </td><td>good                                    </td></tr>\n",
       "\t<tr><td>bb34f48b56a57e834c5c612b835d5a691f7357e8</td><td>(50.0, 55.0]                            </td><td>50                                      </td><td>55                                      </td><td>52.5                                    </td><td>(625.0, 630.0]                          </td><td>625                                     </td><td>630                                     </td><td>poor                                    </td></tr>\n",
       "\t<tr><td>6da929725c76c01aa151d97060df2e6bd051e31e</td><td>(20.0, 25.0]                            </td><td>20                                      </td><td>25                                      </td><td>22.5                                    </td><td>(630.0, 635.0]                          </td><td>630                                     </td><td>635                                     </td><td>poor                                    </td></tr>\n",
       "\t<tr><td>e8a6717452a88ec8d699c0a4181637c67d247e84</td><td>(35.0, 40.0]                            </td><td>35                                      </td><td>40                                      </td><td>37.5                                    </td><td>(670.0, 675.0]                          </td><td>670                                     </td><td>675                                     </td><td>fair                                    </td></tr>\n",
       "</tbody>\n",
       "</table>\n"
      ],
      "text/latex": [
       "\\begin{tabular}{r|lllllllll}\n",
       " user\\_id & age\\_bucket & age\\_bucket\\_bound\\_lower & age\\_bucket\\_bound\\_upper & age & credit\\_score\\_bucket & credit\\_score\\_bound\\_lower & credit\\_score\\_bound\\_upper & credit\\_bucket\\\\\n",
       "\\hline\n",
       "\t 50991631a5e7fafd8b5856fc15e3d1a3af5dcf98 & (45.0, 50.0{]}                           & 45                                       & 50                                       & 47.5                                     & (630.0, 635.0{]}                         & 630                                      & 635                                      & poor                                    \\\\\n",
       "\t 18db173b8b0fb250985a4db2f3f8593ee9658707 & (50.0, 55.0{]}                           & 50                                       & 55                                       & 52.5                                     & (575.0, 580.0{]}                         & 575                                      & 580                                      & poor                                    \\\\\n",
       "\t cabee62f0c4f26bb088f4a48d9ca5efa3a4f96e3 & (50.0, 55.0{]}                           & 50                                       & 55                                       & 52.5                                     & (685.0, 690.0{]}                         & 685                                      & 690                                      & good                                    \\\\\n",
       "\t bb34f48b56a57e834c5c612b835d5a691f7357e8 & (50.0, 55.0{]}                           & 50                                       & 55                                       & 52.5                                     & (625.0, 630.0{]}                         & 625                                      & 630                                      & poor                                    \\\\\n",
       "\t 6da929725c76c01aa151d97060df2e6bd051e31e & (20.0, 25.0{]}                           & 20                                       & 25                                       & 22.5                                     & (630.0, 635.0{]}                         & 630                                      & 635                                      & poor                                    \\\\\n",
       "\t e8a6717452a88ec8d699c0a4181637c67d247e84 & (35.0, 40.0{]}                           & 35                                       & 40                                       & 37.5                                     & (670.0, 675.0{]}                         & 670                                      & 675                                      & fair                                    \\\\\n",
       "\\end{tabular}\n"
      ],
      "text/markdown": [
       "\n",
       "user_id | age_bucket | age_bucket_bound_lower | age_bucket_bound_upper | age | credit_score_bucket | credit_score_bound_lower | credit_score_bound_upper | credit_bucket | \n",
       "|---|---|---|---|---|---|\n",
       "| 50991631a5e7fafd8b5856fc15e3d1a3af5dcf98 | (45.0, 50.0]                             | 45                                       | 50                                       | 47.5                                     | (630.0, 635.0]                           | 630                                      | 635                                      | poor                                     | \n",
       "| 18db173b8b0fb250985a4db2f3f8593ee9658707 | (50.0, 55.0]                             | 50                                       | 55                                       | 52.5                                     | (575.0, 580.0]                           | 575                                      | 580                                      | poor                                     | \n",
       "| cabee62f0c4f26bb088f4a48d9ca5efa3a4f96e3 | (50.0, 55.0]                             | 50                                       | 55                                       | 52.5                                     | (685.0, 690.0]                           | 685                                      | 690                                      | good                                     | \n",
       "| bb34f48b56a57e834c5c612b835d5a691f7357e8 | (50.0, 55.0]                             | 50                                       | 55                                       | 52.5                                     | (625.0, 630.0]                           | 625                                      | 630                                      | poor                                     | \n",
       "| 6da929725c76c01aa151d97060df2e6bd051e31e | (20.0, 25.0]                             | 20                                       | 25                                       | 22.5                                     | (630.0, 635.0]                           | 630                                      | 635                                      | poor                                     | \n",
       "| e8a6717452a88ec8d699c0a4181637c67d247e84 | (35.0, 40.0]                             | 35                                       | 40                                       | 37.5                                     | (670.0, 675.0]                           | 670                                      | 675                                      | fair                                     | \n",
       "\n",
       "\n"
      ],
      "text/plain": [
       "  user_id                                  age_bucket   age_bucket_bound_lower\n",
       "1 50991631a5e7fafd8b5856fc15e3d1a3af5dcf98 (45.0, 50.0] 45                    \n",
       "2 18db173b8b0fb250985a4db2f3f8593ee9658707 (50.0, 55.0] 50                    \n",
       "3 cabee62f0c4f26bb088f4a48d9ca5efa3a4f96e3 (50.0, 55.0] 50                    \n",
       "4 bb34f48b56a57e834c5c612b835d5a691f7357e8 (50.0, 55.0] 50                    \n",
       "5 6da929725c76c01aa151d97060df2e6bd051e31e (20.0, 25.0] 20                    \n",
       "6 e8a6717452a88ec8d699c0a4181637c67d247e84 (35.0, 40.0] 35                    \n",
       "  age_bucket_bound_upper age  credit_score_bucket credit_score_bound_lower\n",
       "1 50                     47.5 (630.0, 635.0]      630                     \n",
       "2 55                     52.5 (575.0, 580.0]      575                     \n",
       "3 55                     52.5 (685.0, 690.0]      685                     \n",
       "4 55                     52.5 (625.0, 630.0]      625                     \n",
       "5 25                     22.5 (630.0, 635.0]      630                     \n",
       "6 40                     37.5 (670.0, 675.0]      670                     \n",
       "  credit_score_bound_upper credit_bucket\n",
       "1 635                      poor         \n",
       "2 580                      poor         \n",
       "3 690                      good         \n",
       "4 630                      poor         \n",
       "5 635                      poor         \n",
       "6 675                      fair         "
      ]
     },
     "metadata": {},
     "output_type": "display_data"
    }
   ],
   "source": [
    "dat = dat %>% select(user_id, \n",
    "                     age_bucket, \n",
    "                     age_bucket_bound_lower, age_bucket_bound_upper, age, \n",
    "                     credit_score_bucket,\n",
    "                     credit_score_bound_lower, credit_score_bound_upper, credit_bucket)\n",
    "dat %>% head"
   ]
  },
  {
   "cell_type": "markdown",
   "metadata": {},
   "source": [
    "# store the updated profile"
   ]
  },
  {
   "cell_type": "code",
   "execution_count": 9,
   "metadata": {},
   "outputs": [],
   "source": [
    "write_csv(dat, path = \"/home/scratch/dataset/profile_with_credit_age.csv\")"
   ]
  }
 ],
 "metadata": {
  "kernelspec": {
   "display_name": "R",
   "language": "R",
   "name": "ir"
  },
  "language_info": {
   "codemirror_mode": "r",
   "file_extension": ".r",
   "mimetype": "text/x-r-source",
   "name": "R",
   "pygments_lexer": "r",
   "version": "3.5.1"
  }
 },
 "nbformat": 4,
 "nbformat_minor": 2
}
